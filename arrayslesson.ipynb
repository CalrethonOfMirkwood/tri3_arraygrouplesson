{
 "cells": [
  {
   "attachments": {},
   "cell_type": "markdown",
   "metadata": {},
   "source": [
    "# Arrays and 2D-Arrays Lesson"
   ]
  },
  {
   "attachments": {},
   "cell_type": "markdown",
   "metadata": {},
   "source": [
    "---\n",
    "\n",
    "We will be reviewing the basic concepts of array and 2d array (not teaching the basic concepts because you should already know these basics and that would also be too much words to look at, if you don't, you should really do more study on your own). We are also be focusing on the tricky parts within the questions on the AP Exam, and provide example problems along the lesson with explanations to help you better undertstand those tricky parts and that you can be more aware of them when doing practice MCQs on your own. We hope the blog would be a helpful studyguide that help you prepare for the array and 2d array problems on the ap exam!\n",
    "\n",
    "---"
   ]
  },
  {
   "attachments": {},
   "cell_type": "markdown",
   "metadata": {},
   "source": [
    "# Arrays"
   ]
  },
  {
   "attachments": {},
   "cell_type": "markdown",
   "metadata": {},
   "source": [
    "Note that arrays:\n",
    "1. are **mutable** (their contents can be changed)\n",
    "2. are **ordered** (each object has an index number)\n",
    "3. can have **repeating values** (ex. an int array could have `7` at indexes 5, 3, and 8 without error)\n",
    "4. have a **fixed size** (the size of the array cannot be changed once it is initalized, you can't append a new element to the list but you can replace an existing element).\n",
    "---"
   ]
  },
  {
   "attachments": {},
   "cell_type": "markdown",
   "metadata": {},
   "source": [
    "### Create int Array with a length of 10\n",
    "\n",
    "```java\n",
    "\tint[] myArray = new int[10] //note that by default all elements are 0\n",
    "```\n",
    "\n",
    "```java\n",
    "//If you know the numbers inside the Array\n",
    "    int[] myArray = {1, 2, 3, 4, 5} //be mindful of what kinds of bracket to use\n",
    "\n",
    "// both are valid declarations\n",
    "    int myArray[]; \n",
    "    or int[] myArray;\n",
    "```\n",
    "---\n",
    "\n",
    "### Array’s length (attribute, not a method)\n",
    "```java\t\n",
    "    myArray.length //different from arraylist .get()\n",
    "```\n",
    "\n",
    "---\n",
    "\n",
    "### Access a element in Array\n",
    "```java\n",
    "\tmyArray[3] //3 -> index position, access the 4th element in the array\n",
    "```\n",
    "\n",
    "---\n",
    "\n",
    "### String Array\n",
    "```java\n",
    "String[] myStringArray = new String[10];\n",
    "```\n",
    "---\n"
   ]
  },
  {
   "attachments": {},
   "cell_type": "markdown",
   "metadata": {},
   "source": [
    "### Traversing an Array\n",
    "\n",
    "#### for loop\n",
    "\n",
    "```java\n",
    "int[] myArray = {1,2,3,4,5};\n",
    "\n",
    "for (int i = 0; i < myArray.length; i++){\n",
    "    System.out.print(myArray[i]);\n",
    "}\n",
    "\n",
    "//or\t\n",
    "\n",
    "for (int i = 0; i <= myArray.length - 1; i++) {\n",
    "\tSystem.out.print(myArray[i]);\n",
    "}\n",
    "\n",
    "```\n",
    "\n"
   ]
  },
  {
   "attachments": {},
   "cell_type": "markdown",
   "metadata": {},
   "source": [
    "![](image/forlooparray.png)\n",
    "\n",
    "Answer: B\n",
    "- key[i-1];\n",
    "```java\n",
    "    - for (int i=0; i <= myArray.length -1; i++)   //“<=“  //missing -1 in the code\n",
    "```\n",
    "    - So eliminate A and B\n",
    "\n",
    "- sum += key[i - 1];\n",
    "    - Not D or E because of the “+=“ \n",
    "        - e.g. a += 3 equals to a = a+3\n",
    "    - In D, sum += sum + key[i-1] which equals to sum = sum + sum + key[i-1]\n",
    "        - sum is being added 2 times\n",
    "\n",
    "\n",
    "1. Know what is the question asking (read question and code carefully)\n",
    "2. Be aware of what is missing in the code, and keep that in mind while looking at the answer options\n",
    "3. Be careful of the sign (operator) also\n"
   ]
  },
  {
   "attachments": {},
   "cell_type": "markdown",
   "metadata": {},
   "source": [
    "---\n",
    "### While loop\n",
    "```java\n",
    "\tint i=0;\n",
    "\twhile(I<myArray.length){\n",
    "\t\t…\n",
    "\t\tI++;\n",
    "\t}\n",
    "\n",
    "```\n",
    "\n",
    "---\n",
    "\n",
    "### Foreach loop\n",
    "```java\n",
    "\tfor ( int elem : myArray) {    //I=0; int elem = myArray[i]; i++;\n",
    "\t\tSystem.out.println(elem);\n",
    "\t}\n",
    "```\n",
    "\t- right side of colon - name of array \n",
    "\t- left side of colon - need to include the data type + whatever name\n",
    "\n",
    "foreach loops are almost always used to iterate over items in a sequence of elements, we can’t modify the array\n",
    "- same as i=0; int elem = myArray[i]; i++; \n",
    "- create new elem and store them in the myArray, so when you edit the elem, you are not changing myArray\n",
    "\n",
    "---"
   ]
  },
  {
   "attachments": {},
   "cell_type": "markdown",
   "metadata": {},
   "source": [
    "### Print array - .toString()"
   ]
  },
  {
   "cell_type": "code",
   "execution_count": null,
   "metadata": {
    "vscode": {
     "languageId": "java"
    }
   },
   "outputs": [],
   "source": [
    "int[] myArray = {1,2,3,4,5};\n",
    "\n",
    "for (int i = 0; i < myArray.length; i++){\n",
    "    System.out.print(Arrays.toString(myArray));\n",
    "}"
   ]
  },
  {
   "attachments": {},
   "cell_type": "markdown",
   "metadata": {},
   "source": [
    "# 2D Array"
   ]
  },
  {
   "attachments": {},
   "cell_type": "markdown",
   "metadata": {},
   "source": [
    "### Create a 2d array with a 4 row and 4 column\n",
    "```java\t\n",
    "    int[][] my2dArray = new int[4][4]; //all 0s\n",
    "\t\t\t\t    \n",
    "\tint[][] my2dArray = {{1,2,3,4},{5,6,7,8},{9,10,11,12},{13,14,15,16}};\n",
    "```\n",
    "\n",
    "### 2D Array Access\n",
    "```java\n",
    "//How to get the 7?\n",
    "\tmy2DArray[1][2] -> 7  //[row][column]\n",
    "\n",
    "```\n",
    "\n"
   ]
  },
  {
   "attachments": {},
   "cell_type": "markdown",
   "metadata": {},
   "source": [
    "### Traversing of 2D Array - nested loop\n",
    "```java\n",
    "//Row major order\n",
    "\tfor (int r=0; r<my2dArray.length; r++) { \n",
    "\t\tfor (int c=0; c<my2dArray[0].length; c++) { \n",
    "\t\t\tSystem.out.print(my2dArray[r][c]);\n",
    "\t\t}\n",
    "\t\tSystem.out.println();\n",
    "\t}\n",
    "\n",
    "//Column major order\n",
    "\tfor (int c=0; c<my2dArray[0].length; c++) { \n",
    "\t\tfor (int r=0; r<my2dArray.length; r++) { \n",
    "\t\t\tSystem.out.print(my2dArray[r][c]);\n",
    "\t\t}\n",
    "\t\tSystem.out.println();\n",
    "\t}\n",
    "\n",
    "\n",
    "```\n"
   ]
  }
 ],
 "metadata": {
  "kernelspec": {
   "display_name": "Java",
   "language": "java",
   "name": "java"
  },
  "language_info": {
   "codemirror_mode": "java",
   "file_extension": ".jshell",
   "mimetype": "text/x-java-source",
   "name": "Java",
   "pygments_lexer": "java",
   "version": "17.0.5+0"
  },
  "orig_nbformat": 4
 },
 "nbformat": 4,
 "nbformat_minor": 2
}
