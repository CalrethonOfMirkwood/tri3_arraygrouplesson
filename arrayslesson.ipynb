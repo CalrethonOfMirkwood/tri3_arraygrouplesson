{
 "cells": [
  {
   "attachments": {},
   "cell_type": "markdown",
   "metadata": {},
   "source": [
    "# Arrays and 2D-Arrays Lesson"
   ]
  },
  {
   "attachments": {},
   "cell_type": "markdown",
   "metadata": {},
   "source": [
    "Arrays are an ordered collection of objects.  You can think of arrays as a single variable that consist of several \"mini-variables\", called elements, within itself."
   ]
  },
  {
   "cell_type": "code",
   "execution_count": null,
   "metadata": {
    "vscode": {
     "languageId": "java"
    }
   },
   "outputs": [],
   "source": [
    "// Arrays can be initialized in two ways:\n",
    "\n",
    "// 1. by creating an empty array and specifying its size\n",
    "int IamAnIntArray[] = new int[5]; // the `5` means that the array will have space for 5 elements\n",
    "\n",
    "\n",
    "// 2. by specifying the array's contents\n",
    "char CoolCharArray[] = {'d', 'y', '+', '4'};"
   ]
  },
  {
   "attachments": {},
   "cell_type": "markdown",
   "metadata": {},
   "source": [
    "Note that arrays:\n",
    "1. are **mutable** (their contents can be changed)\n",
    "2. are **ordered** (each object has an index number)\n",
    "3. can have **repeating values** (ex. an int array could have `7` at indexes 5, 3, and 8 without error)\n",
    "4. have a **fixed size** (the size of the array cannot be changed once it is initalized, you can't append a new element to the list but you can replace an existing element)."
   ]
  }
 ],
 "metadata": {
  "language_info": {
   "name": "python"
  },
  "orig_nbformat": 4
 },
 "nbformat": 4,
 "nbformat_minor": 2
}
