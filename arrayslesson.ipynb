{
 "cells": [
  {
   "attachments": {},
   "cell_type": "markdown",
   "metadata": {},
   "source": [
    "# Arrays and 2D-Arrays Lesson"
   ]
  },
  {
   "attachments": {},
   "cell_type": "markdown",
   "metadata": {},
   "source": [
    "---\n",
    "\n",
    "We will review the basics of arrays and 2D arrays.  Then we will focus on the tricky parts of the related AP Exam MCQs. We will work through example problems with explanations to help you better undertstand common pitfalls and so that you can be more aware of them during both practice MCQs and the actual AP test on your own. We hope this blog will be a helpful studyguide that helps you prepare for the array and 2D array problems on the AP exam!\n",
    "\n",
    "(We won't teach the basics because that would take too long and you should already know them by now. If you don't, please go study on your own!)\n",
    "\n",
    "---"
   ]
  },
  {
   "attachments": {},
   "cell_type": "markdown",
   "metadata": {},
   "source": [
    "# Arrays"
   ]
  },
  {
   "attachments": {},
   "cell_type": "markdown",
   "metadata": {},
   "source": [
    "Note that arrays:\n",
    "1. are **mutable** (their contents can be changed)\n",
    "2. are **ordered** (each object has an index number)\n",
    "3. can have **repeating values** (ex. an int array could have `7` at indexes 5, 3, and 8 without error)\n",
    "4. have a **fixed size** (the size of the array cannot be changed once it is initalized, you can't append a new element to the list but you can replace an existing element).\n",
    "---"
   ]
  },
  {
   "attachments": {},
   "cell_type": "markdown",
   "metadata": {},
   "source": [
    "### Create int Array with a length of 10\n",
    "\n",
    "```java\n",
    "\tint[] myArray = new int[10] //note that by default all elements are 0\n",
    "```\n",
    "\n",
    "```java\n",
    "//If you know the numbers inside the Array\n",
    "    int[] myArray = {1, 2, 3, 4, 5} //be mindful of what kinds of bracket to use\n",
    "\n",
    "// both are valid declarations\n",
    "    int myArray[]; \n",
    "    or int[] myArray;\n",
    "```\n",
    "---\n",
    "\n",
    "### Length of an Array (attribute, not a method)\n",
    "```java\t\n",
    "    myArray.length //not.get() (for arraylist)\n",
    "```\n",
    "\n",
    "---\n",
    "\n",
    "### Access a element in an Array\n"
   ]
  },
  {
   "cell_type": "code",
   "execution_count": 124,
   "metadata": {
    "vscode": {
     "languageId": "java"
    }
   },
   "outputs": [
    {
     "name": "stdout",
     "output_type": "stream",
     "text": [
      "4\n"
     ]
    }
   ],
   "source": [
    "int[] myArray = {1, 2, 3, 4, 5};\n",
    "\n",
    "System.out.println(myArray[3]); //access the 4th element in the array"
   ]
  },
  {
   "attachments": {},
   "cell_type": "markdown",
   "metadata": {},
   "source": [
    "---"
   ]
  },
  {
   "attachments": {},
   "cell_type": "markdown",
   "metadata": {},
   "source": [
    "### String Array\n",
    "```java\n",
    "String[] myStringArray = new String[10];\n",
    "\n",
    "String[] myStringArray = {\"1\", \"2\", \"3\", \"4\", \"5\"};\n",
    "```\n",
    "---"
   ]
  },
  {
   "attachments": {},
   "cell_type": "markdown",
   "metadata": {},
   "source": [
    "### Traversing an Array\n",
    "\n",
    "#### For Loop\n",
    "\n",
    "```java\n",
    "int[] myArray = {1,2,3,4,5};\n",
    "\n",
    "for (int i = 0; i < myArray.length; i++){\n",
    "    System.out.print(myArray[i]);\n",
    "}\n",
    "\n",
    "//or\t\n",
    "\n",
    "for (int i = 0; i <= myArray.length - 1; i++) {\n",
    "\tSystem.out.print(myArray[i]);\n",
    "}\n",
    "\n",
    "```\n",
    "\n"
   ]
  },
  {
   "attachments": {},
   "cell_type": "markdown",
   "metadata": {},
   "source": [
    "![](image/forlooparray.png)\n",
    "\n",
    "Answer: B\n",
    "- key[i-1];\n",
    "```java\n",
    "    - for (int i=0; i <= myArray.length -1; i++)   //“<=“  //missing -1 in the code\n",
    "```\n",
    "    - So eliminate A and B\n",
    "\n",
    "- sum += key[i - 1];\n",
    "    - Not D or E because of the “+=“ \n",
    "        - e.g. a += 3 equals to a = a+3\n",
    "    - In D, sum += sum + key[i-1] which equals to sum = sum + sum + key[i-1]\n",
    "        - sum is being added 2 times\n"
   ]
  },
  {
   "attachments": {},
   "cell_type": "markdown",
   "metadata": {},
   "source": [
    "## Tips!\n",
    "\n",
    "1. Know what is the question asking (read question and code carefully)\n",
    "2. Be aware of what is missing in the code, and keep that in mind while looking at the answer options\n",
    "3. Be careful of the sign (operator) also"
   ]
  },
  {
   "attachments": {},
   "cell_type": "markdown",
   "metadata": {},
   "source": [
    "---\n",
    "### While Loop\n",
    "```java\n",
    "\tint i=0;\n",
    "\twhile(i<myArray.length){\n",
    "\t\t…\n",
    "\t\ti++;\n",
    "\t}\n",
    "\n",
    "```\n",
    "\n",
    "---\n",
    "\n",
    "### Foreach Loop\n",
    "```java\n",
    "\tfor ( int elem : myArray) {  //think “:” as “in” //need to specify the data type\n",
    "\t\tSystem.out.println(elem);\n",
    "\t}\n",
    "```\n",
    "\t- right side of colon - name of array \n",
    "\t- left side of colon - need to include the data type + whatever name\n",
    "\n",
    "foreach loops are almost always used to iterate over items in a sequence of elements, we can’t modify the array\n",
    "- \"int elem : myArray\" same as \"i=0; int elem = myArray[i]; i++;\" in for loop\n",
    "- create new elem and store them in the myArray, so when you edit the elem, you are not changing myArray\n",
    "\n"
   ]
  },
  {
   "cell_type": "code",
   "execution_count": 125,
   "metadata": {
    "vscode": {
     "languageId": "java"
    }
   },
   "outputs": [
    {
     "name": "stdout",
     "output_type": "stream",
     "text": [
      "2\n",
      "3\n",
      "4\n",
      "5\n",
      "6\n",
      "[1, 2, 3, 4, 5]"
     ]
    }
   ],
   "source": [
    "//can't modify array using foreach loop\n",
    "int[] myArray = {1, 2, 3, 4, 5};\n",
    "\n",
    "for (int elem : myArray) {   \n",
    "    elem += 1;  //add 1 to each elem\n",
    "    System.out.println(elem);\n",
    "}\n",
    "\n",
    "System.out.print(Arrays.toString(myArray)); //print myArray, elem not modified\n",
    "\n"
   ]
  },
  {
   "attachments": {},
   "cell_type": "markdown",
   "metadata": {},
   "source": [
    "---"
   ]
  },
  {
   "attachments": {},
   "cell_type": "markdown",
   "metadata": {},
   "source": [
    "### Print array - .toString()"
   ]
  },
  {
   "cell_type": "code",
   "execution_count": 126,
   "metadata": {
    "vscode": {
     "languageId": "java"
    }
   },
   "outputs": [
    {
     "name": "stdout",
     "output_type": "stream",
     "text": [
      "[1, 2, 3, 4, 5][1, 2, 3, 4, 5][1, 2, 3, 4, 5][1, 2, 3, 4, 5][1, 2, 3, 4, 5]"
     ]
    }
   ],
   "source": [
    "int[] myArray = {1,2,3,4,5};\n",
    "\n",
    "for (int i = 0; i < myArray.length; i++){\n",
    "    System.out.print(Arrays.toString(myArray));\n",
    "}"
   ]
  },
  {
   "attachments": {},
   "cell_type": "markdown",
   "metadata": {},
   "source": [
    "_________________________________________________________________________________\n",
    "### Question: What is the data type of an Array?\n",
    "- Reference Type!\n",
    "\n",
    "Because Arrays are **reference types** they store the \"address\" of the object rather than the object itself. <br>\n",
    "In contrast, primitive typs store the actual object.\n",
    "\n",
    "Ex. <br>\n",
    "If I create an Array by `int[] a = {1,2,3,4}`<br>\n",
    "And I initialize another Array called `b` and make it equal to Array `a`, what will it happened if I change the elements inside Array `b`?<br>\n",
    "Will Array `a` also changes?<br>\n",
    "\n",
    "```java\n",
    "int[] a = {1,2,3,4};\n",
    "int[] b = a;\n",
    "b[1] = 5;\n",
    "\n",
    "System.out.println(Arrays.toString(a));\n",
    "\n",
    "```"
   ]
  },
  {
   "cell_type": "code",
   "execution_count": 127,
   "metadata": {
    "vscode": {
     "languageId": "java"
    }
   },
   "outputs": [
    {
     "name": "stdout",
     "output_type": "stream",
     "text": [
      "[1, 5, 3, 4]\n"
     ]
    }
   ],
   "source": [
    "int[] a = {1,2,3,4};\n",
    "int[] b = a;\n",
    "b[1] = 5;\n",
    "\n",
    "System.out.println(Arrays.toString(a)); "
   ]
  },
  {
   "attachments": {},
   "cell_type": "markdown",
   "metadata": {},
   "source": [
    "The answer is Yes. Changes to `b` will also change `a`, because **Arrays are reference types** and stores the \"address\" rather than the data itself. <br>\n",
    "\n",
    "So, if you make `b = a`, you are making the addresss of `b` equal to the addresss of `a` which means both arrays share the same addresss. Therefore, if you change the element inside the address, the returned data of both `b` and `a` will change.<br>\n",
    "\n",
    "Now let's look at an MCQ\n",
    "\n",
    "![](image/Unit6Array/Unit6MCQ5.png)\n",
    "Answer: C\n",
    "\n",
    "Reason: Calling the void Method `doSomething` created a new int array called `b` and make it equal to the input array, so changes to an element inside `b` will also change `arr`. "
   ]
  },
  {
   "cell_type": "code",
   "execution_count": 128,
   "metadata": {
    "vscode": {
     "languageId": "java"
    }
   },
   "outputs": [
    {
     "name": "stdout",
     "output_type": "stream",
     "text": [
      "[1, 2, 3, 4]\n",
      "index 1 :2\n",
      "index 1 :4\n",
      "after calling the method doSomething\n",
      "[0, 1, 2, 3]\n",
      "index 1 :1\n",
      "index 1 :3\n"
     ]
    }
   ],
   "source": [
    "public void doSomething(int[] list){\n",
    "    int[] b = list;\n",
    "    for (int i = 0; i < b.length; i++){\n",
    "        b[i] = i;\n",
    "    }\n",
    "}\n",
    "\n",
    "int[] arr = {1, 2, 3, 4};\n",
    "System.out.println(Arrays.toString(arr));\n",
    "System.out.println(\"index 1 :\" + arr[1]);\n",
    "System.out.println(\"index 1 :\" + arr[3]);\n",
    "doSomething(arr);\n",
    "System.out.println(\"after calling the method doSomething\");\n",
    "System.out.println(Arrays.toString(arr));\n",
    "System.out.println(\"index 1 :\" + arr[1]);\n",
    "System.out.println(\"index 1 :\" + arr[3]);"
   ]
  },
  {
   "attachments": {},
   "cell_type": "markdown",
   "metadata": {},
   "source": [
    "_________________________________________________________________________________\n",
    "#### Arrays not only can store primitive type like int, double, string...\n",
    "#### They can also store the Class Object!\n",
    "Ex. if we have a class called Player:<br>\n",
    "\n",
    "```java\n",
    "public class Player{\n",
    "    // some instances\n",
    "    private String name;\n",
    "\n",
    "\n",
    "    public Player(){ // constructor\n",
    "        //code\n",
    "    };\n",
    "\n",
    "    public Player(String input){\n",
    "        //code\n",
    "    }\n",
    "\n",
    "    //some methods like accesor or mutator.\n",
    "    public void getName();\n",
    "}\n",
    "```\n",
    "\n",
    "And we declare an array initialize as below:\n",
    "\n",
    "```java\n",
    "Player[] Arrayname = new Player[10]\n",
    "```\n",
    "\n",
    "The array Arrayname now stores ten class Object called Player, if we want to print out one of the players' name we can use\n",
    "\n",
    "```java\n",
    "System.out.println(Arrayname[i].getName()); // you can change i to any the index number you want to call the player object, in this case, you must put a number between 0-9;\n",
    "```\n",
    "\n",
    "Now let's look at one MCQ, QS 7 and 8 are connected to each other\n",
    "\n",
    "![](image/Unit6Array/Unit6MCQ6b.png) <br>\n",
    "Answer: D, it is a for-each loop, so option a to c are incorrect because it has index on it.    <br>\n",
    "![](image/Unit6Array/Unit6MCQ6c.png) <br>\n",
    "Answer: B"
   ]
  },
  {
   "cell_type": "code",
   "execution_count": null,
   "metadata": {
    "vscode": {
     "languageId": "java"
    }
   },
   "outputs": [],
   "source": []
  },
  {
   "attachments": {},
   "cell_type": "markdown",
   "metadata": {},
   "source": [
    "_________________________________________________________________________________\n",
    "# 2D Array"
   ]
  },
  {
   "attachments": {},
   "cell_type": "markdown",
   "metadata": {},
   "source": [
    "### Create a 2d array with a 4 row and 4 column"
   ]
  },
  {
   "attachments": {},
   "cell_type": "markdown",
   "metadata": {},
   "source": [
    "### Create a 2d array with a 4 row and 4 column\n",
    "```java\n",
    "int[][] my2dArray = new int[4][4]; //all 0s\n",
    "\n",
    "//if knowing the numbers in 2d array\n",
    "int[][] my2dArray = {{1,2,3,4},{5,6,7,8},{9,10,11,12},{13,14,15,16}};\n",
    "```"
   ]
  },
  {
   "attachments": {},
   "cell_type": "markdown",
   "metadata": {},
   "source": [
    "### 2D Array Access"
   ]
  },
  {
   "cell_type": "code",
   "execution_count": 129,
   "metadata": {
    "vscode": {
     "languageId": "java"
    }
   },
   "outputs": [
    {
     "name": "stdout",
     "output_type": "stream",
     "text": [
      "7\n"
     ]
    }
   ],
   "source": [
    "int[][] my2dArray = {{1,2,3,4},{5,6,7,8},{9,10,11,12},{13,14,15,16}};\n",
    "\n",
    "//How to get the 7?\n",
    "System.out.println(my2dArray[1][2]);\n"
   ]
  },
  {
   "attachments": {},
   "cell_type": "markdown",
   "metadata": {},
   "source": [
    "### Traversing of 2D Array - nested loop"
   ]
  },
  {
   "cell_type": "code",
   "execution_count": 130,
   "metadata": {
    "vscode": {
     "languageId": "java"
    }
   },
   "outputs": [
    {
     "name": "stdout",
     "output_type": "stream",
     "text": [
      "For Loop - Row major order & Column major order\n",
      "1 2 3 4 \n",
      "5 6 7 8 \n",
      "9 10 11 12 \n",
      "13 14 15 16 \n",
      "\n",
      "1 5 9 13 \n",
      "2 6 10 14 \n",
      "3 7 11 15 \n",
      "4 8 12 16 \n",
      "\n"
     ]
    }
   ],
   "source": [
    "\n",
    "int[][] my2dArray ={{1,2,3,4},{5,6,7,8},{9,10,11,12},{13,14,15,16}};\n",
    "\n",
    "//For Loop\n",
    "\n",
    "System.out.println(\"For Loop - Row major order & Column major order\");\n",
    "//Row major order\n",
    "\tfor (int r=0; r<my2dArray.length; r++) { \n",
    "\t\tfor (int c=0; c<my2dArray[0].length; c++) { \n",
    "\t\t\tSystem.out.print(my2dArray[r][c] + \" \");\n",
    "\t\t}\n",
    "\t\tSystem.out.println();\n",
    "\t}\n",
    "\tSystem.out.println(\"\");\n",
    "\n",
    "//Column major order\n",
    "\tfor (int c=0; c<my2dArray[0].length; c++) { \n",
    "\t\tfor (int r=0; r<my2dArray.length; r++) { \n",
    "\t\t\tSystem.out.print(my2dArray[r][c] + \" \");\n",
    "\t\t}\n",
    "\t\tSystem.out.println();\n",
    "\t}\n",
    "\tSystem.out.println(\"\");\n"
   ]
  },
  {
   "cell_type": "code",
   "execution_count": 131,
   "metadata": {
    "vscode": {
     "languageId": "java"
    }
   },
   "outputs": [
    {
     "name": "stdout",
     "output_type": "stream",
     "text": [
      "1 2 3 4 5 6 7 8 9 10 11 12 13 14 15 16 "
     ]
    }
   ],
   "source": [
    "//Foreach loop\n",
    "\tfor ( int[] row : my2dArray) {     //specify the data type for row\n",
    "\t\tfor (int elem : row) {         //data type int\n",
    "\t\t\tSystem.out.print(elem + \" \");    //don’t need to specify row index and column index\n",
    "\t\t}\t\t\n",
    "\t}"
   ]
  }
 ],
 "metadata": {
  "kernelspec": {
   "display_name": "Java",
   "language": "java",
   "name": "java"
  },
  "language_info": {
   "codemirror_mode": "java",
   "file_extension": ".jshell",
   "mimetype": "text/x-java-source",
   "name": "Java",
   "pygments_lexer": "java",
   "version": "17.0.5+0"
  },
  "orig_nbformat": 4
 },
 "nbformat": 4,
 "nbformat_minor": 2
}
