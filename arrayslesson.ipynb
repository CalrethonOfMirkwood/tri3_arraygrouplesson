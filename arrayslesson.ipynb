{
 "cells": [
  {
   "attachments": {},
   "cell_type": "markdown",
   "metadata": {},
   "source": [
    "# Arrays and 2D-Arrays Lesson"
   ]
  },
  {
   "attachments": {},
   "cell_type": "markdown",
   "metadata": {},
   "source": [
    "---\n",
    "\n",
    "We will review the basics of arrays and 2D arrays.  Then we will focus on the tricky parts of the related AP Exam MCQs. We will work through example problems with explanations to help you better undertstand common pitfalls and so that you can be more aware of them during both practice MCQs and the actual AP test on your own. We hope this blog will be a helpful studyguide that helps you prepare for the array and 2D array problems on the AP exam!\n",
    "\n",
    "(We won't teach the basics because that would take too long and you should already know them by now. If you don't, please go study on your own!)\n",
    "\n",
    "---"
   ]
  },
  {
   "attachments": {},
   "cell_type": "markdown",
   "metadata": {},
   "source": [
    "# Arrays"
   ]
  },
  {
   "attachments": {},
   "cell_type": "markdown",
   "metadata": {},
   "source": [
    "Note that arrays:\n",
    "1. are **mutable** (their contents can be changed)\n",
    "2. are **ordered** (each object has an index number)\n",
    "3. can have **repeating values** (ex. an int array could have `7` at indexes 5, 3, and 8 without error)\n",
    "4. have a **fixed size** (the size of the array cannot be changed once it is initalized, you can't append a new element to the list but you can replace an existing element).\n",
    "---"
   ]
  },
  {
   "attachments": {},
   "cell_type": "markdown",
   "metadata": {},
   "source": [
    "### Create int Array with a length of 10\n",
    "\n",
    "```java\n",
    "\tint[] myArray = new int[10] //note that by default all elements are 0\n",
    "```\n",
    "\n",
    "```java\n",
    "//If you know the numbers inside the Array\n",
    "    int[] myArray = {1, 2, 3, 4, 5} //be mindful of what kinds of bracket to use\n",
    "\n",
    "// both are valid declarations\n",
    "    int myArray[]; \n",
    "    or int[] myArray;\n",
    "```\n",
    "---\n",
    "\n",
    "### Length of an Array (attribute, not a method)\n",
    "```java\t\n",
    "    myArray.length //not.get() (for arraylist)\n",
    "```\n",
    "\n",
    "---\n",
    "\n",
    "### Access a element in an Array\n"
   ]
  },
  {
   "cell_type": "code",
   "execution_count": 23,
   "metadata": {
    "vscode": {
     "languageId": "java"
    }
   },
   "outputs": [
    {
     "name": "stdout",
     "output_type": "stream",
     "text": [
      "4\n"
     ]
    }
   ],
   "source": [
    "int[] myArray = {1, 2, 3, 4, 5};\n",
    "\n",
    "System.out.println(myArray[3]); //access the 4th element in the array"
   ]
  },
  {
   "attachments": {},
   "cell_type": "markdown",
   "metadata": {},
   "source": [
    "---"
   ]
  },
  {
   "attachments": {},
   "cell_type": "markdown",
   "metadata": {},
   "source": [
    "### String Array\n",
    "```java\n",
    "String[] myStringArray = new String[10];\n",
    "\n",
    "String[] myStringArray = {\"1\", \"2\", \"3\", \"4\", \"5\"};\n",
    "```\n",
    "---"
   ]
  },
  {
   "attachments": {},
   "cell_type": "markdown",
   "metadata": {},
   "source": [
    "### Traversing an Array\n"
   ]
  },
  {
   "attachments": {},
   "cell_type": "markdown",
   "metadata": {},
   "source": [
    "#### For Loop"
   ]
  },
  {
   "cell_type": "code",
   "execution_count": 24,
   "metadata": {
    "vscode": {
     "languageId": "java"
    }
   },
   "outputs": [
    {
     "name": "stdout",
     "output_type": "stream",
     "text": [
      "12345\n",
      "12345"
     ]
    }
   ],
   "source": [
    "int[] myArray = {1,2,3,4,5};\n",
    "\n",
    "for (int i = 0; i < myArray.length; i++){  // less than\n",
    "    System.out.print(myArray[i]);\n",
    "}\n",
    "\n",
    "//or\t \n",
    "System.out.println(\"\");\n",
    "\n",
    "for (int i = 0; i <= myArray.length - 1; i++) {  //less than or equal to and \"-1\"\n",
    "\tSystem.out.print(myArray[i]);\n",
    "}\n"
   ]
  },
  {
   "attachments": {},
   "cell_type": "markdown",
   "metadata": {},
   "source": [
    "![](image/forlooparray.png)\n",
    "\n",
    "Answer: B\n",
    "- We know that the answer should contain key[i-1] because...\n",
    "  - in the condition for the for loop, \"i=1\" which means we are skipping index 0, which is the first element in the array.\n",
    "    - our purpose is to find the sum of all elements in array\n",
    "  - in the condition, \"i <= myArray.length,\" it is \"<=\" but it does not have \"-1,\" which means it would be index out of bound.\n",
    "    - e.g. if we have a array of 4 elements, once we get to i=4, which works under \"i <= myArray.length,\" we would encounter the error of index out of bound because index 4 means the 5th element in the array and we only have 4 elements in the array. So with \"key[i-1],\" it would avoid the \n",
    "  \n",
    "  - So we can eliminate A C and E\n",
    "\n",
    "- sum += key[i - 1];\n",
    "    - Not D or E because of the “+=“ \n",
    "        - e.g. a += 3 equals to a = a+3\n",
    "    - In D, sum += sum + key[i-1] which equals to sum = sum + sum + key[i-1]\n",
    "        - sum is being added 2 times\n"
   ]
  },
  {
   "attachments": {},
   "cell_type": "markdown",
   "metadata": {},
   "source": [
    "## Tips!\n",
    "\n",
    "1. Know what is the question asking (read question and code carefully)\n",
    "2. For those loops problems, we can make up simple examples to test the answer options. \n",
    "    - e.g. if we have a array of 3 elements... run the code in our brain to see where is wrong and with what answer option can avoid the error and acheive our purpose.\n",
    "3. If our brain can't function properly or we can't keep track just by our memory, we can use paper to help!!"
   ]
  },
  {
   "attachments": {},
   "cell_type": "markdown",
   "metadata": {},
   "source": [
    "### While Loop\n",
    "\n"
   ]
  },
  {
   "attachments": {},
   "cell_type": "markdown",
   "metadata": {},
   "source": [
    "```java\n",
    "int i=0;\n",
    "while(I<myArray.length){\n",
    "    …\n",
    "    i++;\n",
    "}\n",
    "```"
   ]
  },
  {
   "attachments": {},
   "cell_type": "markdown",
   "metadata": {},
   "source": [
    "\n",
    "\n",
    "---\n",
    "\n",
    "### Foreach Loop\n",
    "```java\n",
    "\tfor ( int elem : myArray) {    //I=0; int elem = myArray[i]; i++;\n",
    "\t\tSystem.out.println(elem);\n",
    "\t}\n",
    "```\n",
    "\t- right side of colon - name of array \n",
    "\t- left side of colon - need to include the data type + whatever name\n",
    "\n",
    "foreach loops are almost always used to iterate over items in a sequence of elements, we can’t modify the array\n",
    "- same as i=0; int elem = myArray[i]; i++; \n",
    "- create new elem and store them in the myArray, so when you edit the elem, you are not changing myArray\n",
    "\n"
   ]
  },
  {
   "cell_type": "code",
   "execution_count": 25,
   "metadata": {
    "vscode": {
     "languageId": "java"
    }
   },
   "outputs": [
    {
     "name": "stdout",
     "output_type": "stream",
     "text": [
      "1\n",
      "2\n",
      "3\n",
      "4\n",
      "5\n",
      "[1, 2, 3, 4, 5]"
     ]
    }
   ],
   "source": [
    "int[] myArray = {1, 2, 3, 4, 5};\n",
    "\n",
    "for (int elem : myArray) {    //I=0; int elem = myArray[i]; i++;\n",
    "    System.out.println(elem);\n",
    "    elem += 1;\n",
    "}\n",
    "\n",
    "System.out.print(Arrays.toString(myArray));\n",
    "\n"
   ]
  },
  {
   "attachments": {},
   "cell_type": "markdown",
   "metadata": {},
   "source": [
    "---"
   ]
  },
  {
   "attachments": {},
   "cell_type": "markdown",
   "metadata": {},
   "source": [
    "### Print array - .toString()"
   ]
  },
  {
   "cell_type": "code",
   "execution_count": 26,
   "metadata": {
    "vscode": {
     "languageId": "java"
    }
   },
   "outputs": [
    {
     "name": "stdout",
     "output_type": "stream",
     "text": [
      "[1, 2, 3, 4, 5][1, 2, 3, 4, 5][1, 2, 3, 4, 5][1, 2, 3, 4, 5][1, 2, 3, 4, 5]"
     ]
    }
   ],
   "source": [
    "int[] myArray = {1,2,3,4,5};\n",
    "\n",
    "for (int i = 0; i < myArray.length; i++){\n",
    "    System.out.print(Arrays.toString(myArray));\n",
    "}"
   ]
  },
  {
   "attachments": {},
   "cell_type": "markdown",
   "metadata": {},
   "source": [
    "_________________________________________________________________________________\n",
    "### Question: What is the data type of an Array?\n",
    "- Reference Type!\n",
    "\n",
    "Because Arrays are **reference types** they store the \"address\" of the object rather than the object itself. <br>\n",
    "In contrast, primitive typs store the actual object.\n",
    "\n",
    "Ex. <br>\n",
    "If I create an Array by `int[] a = {1,2,3,4}`<br>\n",
    "And I initialize another Array called `b` and make it equal to Array `a`, what will it happened if I change the elements inside Array `b`?<br>\n",
    "Will Array `a` also changes?<br>\n",
    "\n",
    "```java\n",
    "int[] a = {1,2,3,4};\n",
    "int[] b = a;\n",
    "b[1] = 5;\n",
    "\n",
    "System.out.println(Arrays.toString(a));\n",
    "\n",
    "```"
   ]
  },
  {
   "cell_type": "code",
   "execution_count": 27,
   "metadata": {
    "vscode": {
     "languageId": "java"
    }
   },
   "outputs": [
    {
     "name": "stdout",
     "output_type": "stream",
     "text": [
      "[1, 5, 3, 4]\n"
     ]
    }
   ],
   "source": [
    "int[] a = {1,2,3,4};\n",
    "int[] b = a;\n",
    "b[1] = 5;\n",
    "\n",
    "System.out.println(Arrays.toString(a)); "
   ]
  },
  {
   "attachments": {},
   "cell_type": "markdown",
   "metadata": {},
   "source": [
    "The answer is Yes. Changes to `b` will also change `a`, because **Arrays are reference types** and stores the \"address\" rather than the data itself. <br>\n",
    "\n",
    "So, if you make `b = a`, you are making the addresss of `b` equal to the addresss of `a` which means both arrays share the same addresss. Therefore, if you change the element inside the address, the returned data of both `b` and `a` will change.<br>\n",
    "\n",
    "Now let's look at an MCQ\n",
    "\n",
    "![](image/Unit6Array/Unit6MCQ5.png)\n",
    "Answer: C\n",
    "\n",
    "Reason: Calling the void Method `doSomething` created a new int array called `b` and make it equal to the input array, so changes to an element inside `b` will also change `arr`. "
   ]
  },
  {
   "cell_type": "code",
   "execution_count": 28,
   "metadata": {
    "vscode": {
     "languageId": "java"
    }
   },
   "outputs": [
    {
     "name": "stdout",
     "output_type": "stream",
     "text": [
      "[1, 2, 3, 4]\n",
      "index 1 : 2\n",
      "index 1 : 4\n",
      "after calling the method doSomething\n",
      "[0, 1, 2, 3]\n",
      "index 1 : 1\n",
      "index 1 : 3\n"
     ]
    }
   ],
   "source": [
    "public void doSomething(int[] list){\n",
    "    int[] b = list;\n",
    "    for (int i = 0; i < b.length; i++){\n",
    "        b[i] = i;\n",
    "    }\n",
    "}\n",
    "\n",
    "int[] arr = {1, 2, 3, 4};\n",
    "System.out.println(Arrays.toString(arr));\n",
    "System.out.println(\"index 1 : \" + arr[1]);\n",
    "System.out.println(\"index 1 : \" + arr[3]);\n",
    "doSomething(arr);\n",
    "System.out.println(\"after calling the method doSomething\");\n",
    "System.out.println(Arrays.toString(arr));\n",
    "System.out.println(\"index 1 : \" + arr[1]);\n",
    "System.out.println(\"index 1 : \" + arr[3]);"
   ]
  },
  {
   "attachments": {},
   "cell_type": "markdown",
   "metadata": {},
   "source": [
    "_________________________________________________________________________________\n",
    "#### Arrays not only can store primitive type like int, double, string...\n",
    "#### They can also store the Class Object!\n",
    "Ex. if we have a class called Player:<br>\n",
    "\n",
    "```java\n",
    "public class Player{\n",
    "    // some instances\n",
    "    private String name;\n",
    "\n",
    "\n",
    "    public Player(){ // constructor\n",
    "        //code\n",
    "    };\n",
    "\n",
    "    public Player(String input){\n",
    "        //code\n",
    "    }\n",
    "\n",
    "    public String getName(){ //getter, accessor\n",
    "        return name;\n",
    "    };\n",
    "\n",
    "    public void setName(String newName){\n",
    "        this.name = newName;\n",
    "    }\n",
    "}\n",
    "```\n",
    "\n",
    "And we declare an array initialize as below:\n",
    "\n",
    "```java\n",
    "Player[] Arrayname = new Player[10]\n",
    "```\n",
    "\n",
    "The array Arrayname now stores ten class Object called Player, if we want to print out one of the players' name we can use\n",
    "\n",
    "```java\n",
    "System.out.println(Arrayname[i].getName()); // you can change i to any the index number you want to call the player object, in this case, you must put a number between 0-9;\n",
    "```\n",
    "\n",
    "Now let's look at one MCQ, QS 7 and 8 are connected to each other\n",
    "\n",
    "![](image/Unit6Array/Unit6MCQ6a.png) <br>\n",
    "![](image/Unit6Array/Unit6MCQ6b.png) <br>\n",
    "Answer: D, it is a for-each loop, so option A to C are incorrect because it has index on it. Option E is incorrect because what we want is to print the name of the address, or print the String instance called name inside the Address Object, and list is an Array that only contain the \"address\" to each class object. So if we want to print the name of Address inside the list, we can use for loop and inside using list[i].getName(). And in this case, it already provide us a for-each loop that run though the list Array. So we can just use a.getName(), option D  <br>\n",
    "![](image/Unit6Array/Unit6MCQ6c.png) <br>\n",
    "Answer: B, I is incorrect because we are using a for-each loop, and III is incorrect because we can't just call the Class Object if it didn't contain toString method inside the Class.<br>\n",
    "\n",
    "<br>\n",
    "\n",
    "To help you better understand what is the rule of toString and how does it work on this Qs, let's look at a code segment below"
   ]
  },
  {
   "cell_type": "code",
   "execution_count": 5,
   "metadata": {
    "vscode": {
     "languageId": "java"
    }
   },
   "outputs": [
    {
     "name": "stdout",
     "output_type": "stream",
     "text": [
      "CA\n",
      "CA\n",
      "CA\n",
      "CA\n",
      "CA\n"
     ]
    }
   ],
   "source": [
    "public class Address{\n",
    "      // some instances\n",
    "    private String name;\n",
    "\n",
    "    public Address(){ // constructor\n",
    "        name = \"CA\";\n",
    "    };\n",
    "  \n",
    "    public String getName(){\n",
    "        return name;\n",
    "    };  \n",
    "\n",
    "    //No toString method\n",
    "}\n",
    "\n",
    "Address[] list = new Address[5];\n",
    "for (Address a : list){\n",
    "    a = new Address();\n",
    "    System.out.println(a.getName());  //using getter to get name\n",
    "}   \n"
   ]
  },
  {
   "cell_type": "code",
   "execution_count": 6,
   "metadata": {
    "vscode": {
     "languageId": "java"
    }
   },
   "outputs": [
    {
     "name": "stdout",
     "output_type": "stream",
     "text": [
      "REPL.$JShell$12$Address@4933adbb\n",
      "REPL.$JShell$12$Address@31491903\n",
      "REPL.$JShell$12$Address@c8d1508\n",
      "REPL.$JShell$12$Address@70e2de7d\n",
      "REPL.$JShell$12$Address@2468fbaf\n"
     ]
    }
   ],
   "source": [
    "public class Address{\n",
    "    // some instances\n",
    "  private String name;\n",
    "\n",
    "  public Address(){ // constructor\n",
    "      name = \"CA\";\n",
    "  };\n",
    "\n",
    "  public String getName(){\n",
    "      return name;\n",
    "  };  \n",
    "\n",
    "  //No toString method\n",
    "}\n",
    "\n",
    "Address[] list = new Address[5];\n",
    "for (Address a : list){\n",
    "  a = new Address();\n",
    "  System.out.println(a);  //calling the object name without toString method inside the class\n",
    "}   \n"
   ]
  },
  {
   "cell_type": "code",
   "execution_count": 8,
   "metadata": {
    "vscode": {
     "languageId": "java"
    }
   },
   "outputs": [
    {
     "name": "stdout",
     "output_type": "stream",
     "text": [
      "Address name: CA\n",
      "Address name: CA\n",
      "Address name: CA\n",
      "Address name: CA\n",
      "Address name: CA\n"
     ]
    }
   ],
   "source": [
    "public class Address{\n",
    "    // some instances\n",
    "  private String name;\n",
    "\n",
    "  public Address(){ // constructor\n",
    "      name = \"CA\";\n",
    "  };\n",
    "\n",
    "  public String getName(){\n",
    "      return name;\n",
    "  };  \n",
    "\n",
    "  public String toString(){\n",
    "      return \"Address name: \" + getName();\n",
    "  } \n",
    "  \n",
    "}\n",
    "\n",
    "Address[] list = new Address[5];\n",
    "for (Address addr : list){\n",
    "  addr = new Address();\n",
    "  System.out.println(addr);//calling the object name with toString method inside the class\n",
    "}   \n"
   ]
  },
  {
   "attachments": {},
   "cell_type": "markdown",
   "metadata": {},
   "source": [
    "_________________________________________________________________________________\n",
    "# 2D Array"
   ]
  },
  {
   "attachments": {},
   "cell_type": "markdown",
   "metadata": {},
   "source": [
    "Exam Weighting\n",
    "\n",
    "- 7.5-10% of the test\n",
    "- Roughly 3 to 4 multiple-choice questions\n",
    "- Always FRQ #4, which tests your ability to make, traverse, and create algorithms with a 2D array.\n"
   ]
  },
  {
   "attachments": {},
   "cell_type": "markdown",
   "metadata": {},
   "source": [
    "### Create a 2d array with a 4 row and 4 column\n",
    "```java\n",
    "int[][] my2dArray = new int[4][4]; //all 0s\n",
    "\n",
    "//if knowing the numbers in 2d array\n",
    "int[][] my2dArray = {{1,2,3,4},{5,6,7,8},{9,10,11,12},{13,14,15,16}};\n",
    "```"
   ]
  },
  {
   "attachments": {},
   "cell_type": "markdown",
   "metadata": {},
   "source": [
    "### 2D Array Access"
   ]
  },
  {
   "cell_type": "code",
   "execution_count": 31,
   "metadata": {
    "vscode": {
     "languageId": "java"
    }
   },
   "outputs": [
    {
     "name": "stdout",
     "output_type": "stream",
     "text": [
      "7\n"
     ]
    }
   ],
   "source": [
    "int[][] my2dArray = {{1,2,3,4},{5,6,7,8},{9,10,11,12},{13,14,15,16}};\n",
    "\n",
    "//How to get the 7?\n",
    "System.out.println(my2dArray[1][2]);\n"
   ]
  },
  {
   "attachments": {},
   "cell_type": "markdown",
   "metadata": {},
   "source": [
    "### Traversing of 2D Array - nested loop"
   ]
  },
  {
   "cell_type": "code",
   "execution_count": 32,
   "metadata": {
    "vscode": {
     "languageId": "java"
    }
   },
   "outputs": [
    {
     "name": "stdout",
     "output_type": "stream",
     "text": [
      "For Loop - Row major order & Column major order\n",
      "1 2 3 4 \n",
      "5 6 7 8 \n",
      "9 10 11 12 \n",
      "13 14 15 16 \n",
      "\n",
      "1 5 9 13 \n",
      "2 6 10 14 \n",
      "3 7 11 15 \n",
      "4 8 12 16 \n",
      "\n"
     ]
    }
   ],
   "source": [
    "\n",
    "int[][] my2dArray ={{1,2,3,4},{5,6,7,8},{9,10,11,12},{13,14,15,16}};\n",
    "\n",
    "//For Loop\n",
    "\n",
    "System.out.println(\"For Loop - Row major order & Column major order\");\n",
    "//Row major order\n",
    "\tfor (int r=0; r<my2dArray.length; r++) { \n",
    "\t\tfor (int c=0; c<my2dArray[0].length; c++) { \n",
    "\t\t\tSystem.out.print(my2dArray[r][c] + \" \");\n",
    "\t\t}\n",
    "\t\tSystem.out.println();\n",
    "\t}\n",
    "\tSystem.out.println(\"\");\n",
    "\n",
    "//Column major order\n",
    "\tfor (int c=0; c<my2dArray[0].length; c++) { \n",
    "\t\tfor (int r=0; r<my2dArray.length; r++) { \n",
    "\t\t\tSystem.out.print(my2dArray[r][c] + \" \");\n",
    "\t\t}\n",
    "\t\tSystem.out.println();\n",
    "\t}\n",
    "\tSystem.out.println(\"\");\n"
   ]
  },
  {
   "cell_type": "code",
   "execution_count": 33,
   "metadata": {
    "vscode": {
     "languageId": "java"
    }
   },
   "outputs": [
    {
     "name": "stdout",
     "output_type": "stream",
     "text": [
      "1 2 3 4 5 6 7 8 9 10 11 12 13 14 15 16 "
     ]
    }
   ],
   "source": [
    "//Foreach loop\n",
    "\tfor ( int[] row : my2dArray) {     //specify the data type for row\n",
    "\t\tfor (int elem : row) {         //data type int\n",
    "\t\t\tSystem.out.print(elem + \" \");    //don’t need to specify row index and column index\n",
    "\t\t}\t\t\n",
    "\t}"
   ]
  },
  {
   "attachments": {},
   "cell_type": "markdown",
   "metadata": {},
   "source": [
    "Let's look at a FRQ!\n",
    "\n",
    "2021 FRQ #4"
   ]
  },
  {
   "attachments": {},
   "cell_type": "markdown",
   "metadata": {},
   "source": [
    "![](image/2DArray/2dArrayFRQ.png)"
   ]
  },
  {
   "attachments": {},
   "cell_type": "markdown",
   "metadata": {},
   "source": [
    "![](image/2DArray/2dArrayFRQa.png)"
   ]
  },
  {
   "attachments": {},
   "cell_type": "markdown",
   "metadata": {},
   "source": [
    "![](image/2DArray/2dArrayFRQb.png)"
   ]
  },
  {
   "attachments": {},
   "cell_type": "markdown",
   "metadata": {},
   "source": [
    "#### Similar with Array, 2D Array can also store the class object.\n",
    "ex.\n",
    "\n",
    "```java\n",
    "Object[][] my2dArray ={{Object,Object,Object,Object},{Object,Object,Object,Object}};\n",
    "```"
   ]
  }
 ],
 "metadata": {
  "kernelspec": {
   "display_name": "Java",
   "language": "java",
   "name": "java"
  },
  "language_info": {
   "codemirror_mode": "java",
   "file_extension": ".jshell",
   "mimetype": "text/x-java-source",
   "name": "Java",
   "pygments_lexer": "java",
   "version": "11.0.17+8-post-Ubuntu-1ubuntu218.04"
  },
  "orig_nbformat": 4
 },
 "nbformat": 4,
 "nbformat_minor": 2
}
