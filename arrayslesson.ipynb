{
 "cells": [
  {
   "attachments": {},
   "cell_type": "markdown",
   "metadata": {},
   "source": [
    "# Arrays and 2D-Arrays Lesson"
   ]
  },
  {
   "attachments": {},
   "cell_type": "markdown",
   "metadata": {},
   "source": [
    "Arrays are an ordered collection of objects.  You can think of arrays as a single variable that consist of several \"mini-variables\", called elements, within itself."
   ]
  },
  {
   "cell_type": "code",
   "execution_count": null,
   "metadata": {
    "vscode": {
     "languageId": "java"
    }
   },
   "outputs": [],
   "source": [
    "// Arrays can be initialized in two ways:\n",
    "\n",
    "// 1. by creating an empty array and specifying its size\n",
    "int IamAnIntArray[] = new int[5]; // the `5` means that the array will have space for 5 elements\n",
    "\n",
    "\n",
    "// 2. by specifying the array's contents\n",
    "char CoolCharArray[] = {'d', 'y', '+', '4'};"
   ]
  },
  {
   "attachments": {},
   "cell_type": "markdown",
   "metadata": {},
   "source": [
    "Note that arrays:\n",
    "1. are **mutable** (their contents can be changed)\n",
    "2. are **ordered** (each object has an index number)\n",
    "3. can have **repeating values** (ex. an int array could have `7` at indexes 5, 3, and 8 without error)\n",
    "4. have a **fixed size** (the size of the array cannot be changed once it is initalized, you can't append a new element to the list but you can replace an existing element)."
   ]
  },
  {
   "attachments": {},
   "cell_type": "markdown",
   "metadata": {},
   "source": [
    "---\n",
    "\n",
    "We will be reviewing the basic concepts of array and 2d array (not teaching the basic concepts because you should already know these basics, if you don't, you should really do more study on your own). We are also be focusing on the tricky parts within the questions on the AP Exam, and provide example problems along the lesson with explanations to help you better undertstand those tricky parts and that you can be more aware of them when doing practice MCQs on your own."
   ]
  },
  {
   "attachments": {},
   "cell_type": "markdown",
   "metadata": {},
   "source": [
    "Create int Array with a length of 10\n",
    "\n",
    "```java\n",
    "\tint[] myArray = new int[10] //note that by default all elements are 0\n",
    "```\n",
    "\n",
    "If you know the numbers inside the Array\n",
    "\n",
    "```java\n",
    "    int[] myArray = {1, 2, 3, 4, 5} //be mindful of what kinds of bracket to use\n",
    "\n",
    "// both are valid declarations\n",
    "int myArray[]; \n",
    "or int[] myArray;\n",
    "```\n",
    "\n",
    "Array’s length (attribute, not a method)\n",
    "```java\t\n",
    "    myArray.length //different from arraylist .get()\n",
    "```\n",
    "\n",
    "Access a element in Array\n",
    "```java\n",
    "\tmyArray[3] //3 -> index position, access the 4th element in the array\n",
    "```\n",
    "\n",
    "String Array\n",
    "```java\n",
    "String[] myStringArray = new String[10];\n",
    "```\n",
    "\n"
   ]
  },
  {
   "attachments": {},
   "cell_type": "markdown",
   "metadata": {},
   "source": [
    "Traversing an Array\n",
    "\n",
    "for loop\n",
    "\n",
    "```java\n",
    "\tint () myArray = {1,2,3,4,5}\n",
    "\n",
    "\tfor (int i = 0; i < myArray.length; i++){\n",
    "\n",
    "\t}\n",
    "\n",
    "//or\t\n",
    "\n",
    "    for (int i = 0; i <= myArray.length - 1; i++) {\n",
    "\n",
    "\t}\n",
    "\n",
    "```\n",
    "\n"
   ]
  },
  {
   "attachments": {},
   "cell_type": "markdown",
   "metadata": {},
   "source": [
    "![](image/forlooparray.png)\n",
    "\n",
    "Answer: B\n",
    "- key[i-1];\n",
    "```java\n",
    "    - for (int i=0; i <= myArray.length -1; i++)   //“<=“  //missing -1 in the code\n",
    "```\n",
    "    - So eliminate A and B\n",
    "\n",
    "- sum += key[i - 1];\n",
    "    - Not D or E because of the “+=“ \n",
    "        - e.g. a += 3 equals to a = a+3\n",
    "    - In D, sum += sum + key[i-1] which equals to sum = sum + sum + key[i-1]\n",
    "        - sum is being added 2 times\n",
    "\n",
    "\n",
    "1. Know what is the question asking (read question and code carefully)\n",
    "2. Be aware of what is missing in the code, and keep that in mind while looking at the answer options\n",
    "3. Be careful of the sign (operator) also\n"
   ]
  },
  {
   "attachments": {},
   "cell_type": "markdown",
   "metadata": {},
   "source": [
    "While loop\n",
    "```java\n",
    "\tint i=0;\n",
    "\twhile(I<myArray.length){\n",
    "\t\t…\n",
    "\t\tI++;\n",
    "\t}\n",
    "\n",
    "```\n",
    "\n",
    "Foreach loop\n",
    "```java\n",
    "\tfor ( int elem : myArray) {    //I=0; int elem = myArray[i]; i++;\n",
    "\t\tSystem.out.println(elem);\n",
    "\t}\n",
    "```\n",
    "\t- right side of colon - name of array \n",
    "\t- left side of colon - need to include the data type + whatever name\n",
    "\n",
    "foreach loops are almost always used to iterate over items in a sequence of elements, we can’t modify the array\n",
    "- same as i=0; int elem = myArray[i]; i++; \n",
    "- create new elem and store them in the myArray, so when you edit the elem, you are not changing myArray\n"
   ]
  }
 ],
 "metadata": {
  "language_info": {
   "name": "python"
  },
  "orig_nbformat": 4
 },
 "nbformat": 4,
 "nbformat_minor": 2
}
