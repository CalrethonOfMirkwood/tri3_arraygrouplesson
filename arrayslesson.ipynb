{
 "cells": [
  {
   "attachments": {},
   "cell_type": "markdown",
   "metadata": {},
   "source": [
    "# Arrays and 2D-Arrays Lesson"
   ]
  },
  {
   "attachments": {},
   "cell_type": "markdown",
   "metadata": {},
   "source": [
    "---\n",
    "\n",
    "We will review the basics of arrays and 2D arrays.  Then we will explain common pitfalls of the related AP Exam MCQs through example problems so that you can catch them in both practice MCQs and the actual AP test. We hope this blog will be a helpful studyguide that helps you prepare for the array and 2D array problems on the AP exam!\n",
    "\n",
    "(We won't teach the basics because that would take too long and you should already know them by now. If you don't, please go study on your own!)\n",
    "\n",
    "---"
   ]
  },
  {
   "attachments": {},
   "cell_type": "markdown",
   "metadata": {},
   "source": [
    "# Unit 6 Arrays"
   ]
  },
  {
   "attachments": {},
   "cell_type": "markdown",
   "metadata": {},
   "source": [
    "Exam Weighting\n",
    "\n",
    "- 10-15% of the test\n",
    "- Roughly 4 to 6 multiple-choice questions\n",
    "- A possible topic of FRQ #3, which may test your ability to make arrays and array algorithms."
   ]
  },
  {
   "attachments": {},
   "cell_type": "markdown",
   "metadata": {},
   "source": [
    "Note that arrays:\n",
    "1. are **mutable** (their contents can be changed)\n",
    "2. are **ordered** (each object has an index number)\n",
    "3. can have **repeating values** (ex. an int array could have `7` at indexes 5, 3, and 8 without error)\n",
    "4. have a **fixed size** (the size of the array cannot be changed once it is initalized, you can't append a new element to the list but you can replace an existing element).\n",
    "---"
   ]
  },
  {
   "attachments": {},
   "cell_type": "markdown",
   "metadata": {},
   "source": [
    "### Create int Array (primitive type)\n",
    "\n",
    "```java\n",
    "\tint[] myArray = new int[5] //note that by default all elements are 0\n",
    "```\n",
    "\n",
    "```java\n",
    "//If you know the numbers inside the Array\n",
    "    int[] myArray = {1, 2, 3, 4, 5} //be mindful of what kinds of bracket to use\n",
    "\n",
    "// both are valid declarations\n",
    "    int myArray[]; \n",
    "    or int[] myArray;\n",
    "```\n",
    "---\n",
    "\n",
    "### Length of an Array (attribute, not a method)\n",
    "```java\t\n",
    "    myArray.length //not.get() (for arraylist)\n",
    "```\n",
    "\n",
    "---\n",
    "\n",
    "### Access a element in an Array\n"
   ]
  },
  {
   "cell_type": "code",
   "execution_count": null,
   "metadata": {},
   "outputs": [
    {
     "name": "stdout",
     "output_type": "stream",
     "text": [
      "4\n"
     ]
    }
   ],
   "source": [
    "int[] myArray = {1, 2, 3, 4, 5};\n",
    "\n",
    "System.out.println(myArray[3]); //access the 4th element in the array"
   ]
  },
  {
   "attachments": {},
   "cell_type": "markdown",
   "metadata": {},
   "source": [
    "---"
   ]
  },
  {
   "attachments": {},
   "cell_type": "markdown",
   "metadata": {},
   "source": [
    "### String Array\n",
    "```java\n",
    "String[] myStringArray = new String[5]; //same as creating int Array\n",
    "\n",
    "String[] myStringArray = {\"1\", \"2\", \"3\", \"4\", \"5\"};\n",
    "```\n",
    "---"
   ]
  },
  {
   "attachments": {},
   "cell_type": "markdown",
   "metadata": {},
   "source": [
    "### Traversing an Array\n"
   ]
  },
  {
   "attachments": {},
   "cell_type": "markdown",
   "metadata": {},
   "source": [
    "#### For Loop"
   ]
  },
  {
   "cell_type": "code",
   "execution_count": null,
   "metadata": {},
   "outputs": [
    {
     "name": "stdout",
     "output_type": "stream",
     "text": [
      "12345\n",
      "12345"
     ]
    }
   ],
   "source": [
    "int[] myArray = {1,2,3,4,5};\n",
    "\n",
    "for (int i = 0; i < myArray.length; i++){  // <\n",
    "    System.out.print(myArray[i]);\n",
    "}\n",
    "\n",
    "//or\t \n",
    "System.out.println(\"\");\n",
    "\n",
    "for (int i = 0; i <= myArray.length - 1; i++) {  // <= and -1\n",
    "\tSystem.out.print(myArray[i]);\n",
    "}\n",
    "\n"
   ]
  },
  {
   "attachments": {},
   "cell_type": "markdown",
   "metadata": {},
   "source": [
    "Try this problem!"
   ]
  },
  {
   "attachments": {},
   "cell_type": "markdown",
   "metadata": {},
   "source": [
    "![](image/forlooparray.png)\n",
    "\n",
    "Answer: B\n",
    "- We know that the answer should contain `key[i-1]` because the for loop has the start condition `i=1`, which means we are starting at index 1 (and therefore we skipped index 0, so we need the \"-1\" in key[i-1]) (we want to find the sum of ***all*** elements in array)\n",
    "  - So we can eliminate A, C, and E\n",
    "- We can eliminate D and E because of the “+=“ (e.g. a += 3 equals to a = a+3)\n",
    "  - In D, sum += sum + key[i-1] which equals to sum = sum + sum + key[i-1]\n",
    "      - sum is being added 2 times \n"
   ]
  },
  {
   "attachments": {},
   "cell_type": "markdown",
   "metadata": {},
   "source": [
    "## Tips!\n",
    "\n",
    "1. Know what is the question asking (read question and code carefully)\n",
    "    - Know *what answer the question is looking for*!!! Often words like \"not\" or misreading things like \"how many iterations\" with \"what is final output\" can make you answer wrong even when you understood the question. I reccomend **underlining the part of the question that specifies what the answer should be**.\n",
    "2. For problems with loops, try simplifying!  Make a simpler version of the loop or try inputting a simpler input.\n",
    "3. Use scratch paper!  It's there for a reason and it's a risk to trust your head to get all the simple math right.  Write things down, make a table of the variables before and after each loop, etc."
   ]
  },
  {
   "attachments": {},
   "cell_type": "markdown",
   "metadata": {},
   "source": [
    "### While Loop\n",
    "\n"
   ]
  },
  {
   "attachments": {},
   "cell_type": "markdown",
   "metadata": {},
   "source": [
    "```java\n",
    "int i=0;\n",
    "while(I<myArray.length){\n",
    "    …\n",
    "    i++;\n",
    "}\n",
    "```"
   ]
  },
  {
   "attachments": {},
   "cell_type": "markdown",
   "metadata": {},
   "source": [
    "\n",
    "\n",
    "---\n",
    "\n",
    "### Foreach Loop\n",
    "```java\n",
    "\tfor ( int elem : myArray) {    //i=0; int elem = myArray[i]; i++;\n",
    "\t\tSystem.out.println(elem);\n",
    "\t}\n",
    "```\n",
    "\t- right side of colon - name of array \n",
    "\t- left side of colon - need to include the data type + whatever name\n",
    "\n",
    "foreach loops are almost always used to iterate over items in a sequence of elements, we can’t modify the array\n",
    "- create new elem and store them in the myArray, so when you edit the elem, you are not changing myArray\n",
    "\n"
   ]
  },
  {
   "cell_type": "code",
   "execution_count": null,
   "metadata": {},
   "outputs": [
    {
     "name": "stdout",
     "output_type": "stream",
     "text": [
      "1\n",
      "2\n",
      "3\n",
      "4\n",
      "5\n",
      "[1, 2, 3, 4, 5]"
     ]
    }
   ],
   "source": [
    "int[] myArray = {1, 2, 3, 4, 5};\n",
    "\n",
    "for (int elem : myArray) {    //i=0; int elem = myArray[i]; i++;\n",
    "    System.out.println(elem);\n",
    "    elem += 1;\n",
    "}\n",
    "\n",
    "System.out.print(Arrays.toString(myArray));\n",
    "\n"
   ]
  },
  {
   "attachments": {},
   "cell_type": "markdown",
   "metadata": {},
   "source": [
    "---"
   ]
  },
  {
   "attachments": {},
   "cell_type": "markdown",
   "metadata": {},
   "source": [
    "### Print array - .toString()"
   ]
  },
  {
   "cell_type": "code",
   "execution_count": null,
   "metadata": {},
   "outputs": [
    {
     "name": "stdout",
     "output_type": "stream",
     "text": [
      "[1, 2, 3, 4, 5][1, 2, 3, 4, 5][1, 2, 3, 4, 5][1, 2, 3, 4, 5][1, 2, 3, 4, 5]"
     ]
    }
   ],
   "source": [
    "int[] myArray = {1,2,3,4,5};\n",
    "\n",
    "for (int i = 0; i < myArray.length; i++){\n",
    "    System.out.print(Arrays.toString(myArray)); //print the entire array 5 times \n",
    "}"
   ]
  },
  {
   "attachments": {},
   "cell_type": "markdown",
   "metadata": {},
   "source": [
    "_________________________________________________________________________________\n",
    "### Question: What is the data type of an Array?\n",
    "- Reference Type!\n",
    "\n",
    "Because Arrays are **reference types** they store the \"address\" of the object rather than the object itself. <br>\n",
    "In contrast, primitive typs store the actual object.\n",
    "\n",
    "Ex. <br>\n",
    "If I create an Array `int[] a = {1,2,3,4}`<br>\n",
    "And I initialize another Array called `b` and make it equal to Array `a`, what will it happened if I change the elements inside Array `b`?<br>\n",
    "Would Array `a` also change?<br>\n",
    "\n",
    "```java\n",
    "int[] a = {1,2,3,4};\n",
    "int[] b = a;\n",
    "b[1] = 5;\n",
    "\n",
    "System.out.println(Arrays.toString(a));\n",
    "\n",
    "```"
   ]
  },
  {
   "cell_type": "code",
   "execution_count": null,
   "metadata": {},
   "outputs": [
    {
     "name": "stdout",
     "output_type": "stream",
     "text": [
      "[1, 5, 3, 4]\n"
     ]
    }
   ],
   "source": [
    "int[] a = {1,2,3,4};\n",
    "int[] b = a;\n",
    "b[1] = 5;\n",
    "\n",
    "System.out.println(Arrays.toString(a)); "
   ]
  },
  {
   "attachments": {},
   "cell_type": "markdown",
   "metadata": {},
   "source": [
    "The answer is Yes. Changes to `b` will also change `a`, because **Arrays are reference types** and stores the \"address\" rather than the data itself. <br>\n",
    "\n",
    "So, if you make `b = a`, you are making the address of `b` equal to the address of `a` which means both arrays share the same address. Therefore, if you change the element inside the address, the returned data of both `b` and `a` will change.<br>\n",
    "\n",
    "Now let's look at a practice MCQ\n",
    "\n",
    "![](image/Unit6Array/Unit6MCQ5.png)\n",
    "\n",
    "Answer: C\n",
    "\n",
    "Reason: Calling the void Method `doSomething` created a new int array called `b` and make it equal to the input array, so changes to an element inside `b` will also change `arr`. "
   ]
  },
  {
   "cell_type": "code",
   "execution_count": null,
   "metadata": {},
   "outputs": [
    {
     "name": "stdout",
     "output_type": "stream",
     "text": [
      "[1, 2, 3, 4]\n",
      "index 1 : 2\n",
      "index 1 : 4\n",
      "after calling the method doSomething\n",
      "[0, 1, 2, 3]\n",
      "index 1 : 1\n",
      "index 1 : 3\n"
     ]
    }
   ],
   "source": [
    "public void doSomething(int[] list){\n",
    "    int[] b = list;\n",
    "    for (int i = 0; i < b.length; i++){\n",
    "        b[i] = i;\n",
    "    }\n",
    "}\n",
    "\n",
    "int[] arr = {1, 2, 3, 4};\n",
    "System.out.println(Arrays.toString(arr));\n",
    "System.out.println(\"index 1 : \" + arr[1]);\n",
    "System.out.println(\"index 1 : \" + arr[3]);\n",
    "doSomething(arr);\n",
    "System.out.println(\"after calling the method doSomething\");\n",
    "System.out.println(Arrays.toString(arr));\n",
    "System.out.println(\"index 1 : \" + arr[1]);\n",
    "System.out.println(\"index 1 : \" + arr[3]);"
   ]
  },
  {
   "attachments": {},
   "cell_type": "markdown",
   "metadata": {},
   "source": [
    "_________________________________________________________________________________\n",
    "#### Arrays not only can store primitive type like int, double, string...\n",
    "#### They can also store the Class Object!\n",
    "Ex. if we have a class called Player:<br>\n",
    "\n",
    "```java\n",
    "public class Player{\n",
    "    // some instances\n",
    "    private String name;\n",
    "\n",
    "\n",
    "    public Player(){ // constructor\n",
    "        //code\n",
    "    };\n",
    "\n",
    "    public Player(String input){\n",
    "        //code\n",
    "    }\n",
    "\n",
    "    public String getName(){ //getter, accessor\n",
    "        return name;\n",
    "    };\n",
    "\n",
    "    public void setName(String newName){\n",
    "        this.name = newName;\n",
    "    }\n",
    "}\n",
    "```\n",
    "\n",
    "And we declare an array initialize as below:\n",
    "\n",
    "```java\n",
    "Player[] Arrayname = new Player[10]\n",
    "\n",
    "// another way -> Player[] Arrayname = {new Player(), new Player(), new Player(), new Player()}; //using default constructor to create object\n",
    "```\n",
    "\n",
    "The array Arrayname now stores ten class Object called Player, if we want to print out one of the players' name we can use\n",
    "\n",
    "```java\n",
    "System.out.println(Arrayname[i].getName()); // you can change i to any the index number you want to call the player object, in this case, you must put a number between 0-9;\n",
    "```\n",
    "\n",
    "Now let's look at another MCQ, QS 7 and 8 are connected to each other\n",
    "\n",
    "![](image/Unit6Array/Unit6MCQ6a.png) <br>\n",
    "![](image/Unit6Array/Unit6MCQ6b.png) <br>\n",
    "Answer: D\n",
    "\n",
    " It is a for-each loop, so option A to C are incorrect because they contain \"i\". Option E is incorrect because what we want is to print the name of the address, or print the String instance called name inside the Address Object, and list is an Array that only contain the \"address\" to each class object. So if we want to print the name of Address inside the list, we can use for loop and inside do list[i].getName(). And in this case, it already provides us a for-each loop that run though the list Array. So we can just use a.getName(), option D  <br>\n",
    " \n",
    "![](image/Unit6Array/Unit6MCQ6c.png) <br>\n",
    "Answer: B\n",
    "\n",
    " I is incorrect because we are using a for-each loop, and III is incorrect because we can't just call the Class Object if it didn't contain toString method inside the Class.<br>\n",
    "\n",
    "<br>\n",
    "\n",
    "To help you better understand what is the rule of toString and how does it work in this Qs, let's look at the code segments below"
   ]
  },
  {
   "cell_type": "code",
   "execution_count": null,
   "metadata": {},
   "outputs": [
    {
     "name": "stdout",
     "output_type": "stream",
     "text": [
      "CA\n",
      "CA\n",
      "CA\n",
      "CA\n",
      "CA\n"
     ]
    }
   ],
   "source": [
    "public class Address{\n",
    "      // some instances\n",
    "    private String name;\n",
    "\n",
    "    public Address(){ // constructor\n",
    "        name = \"CA\";\n",
    "    };\n",
    "  \n",
    "    public String getName(){\n",
    "        return name;\n",
    "    };  \n",
    "\n",
    "    //No toString method\n",
    "}\n",
    "\n",
    "Address[] list = new Address[5];\n",
    "for (Address a : list){\n",
    "    a = new Address();\n",
    "//Array is reference type, it only stores the \"address\" \n",
    "//so when we initialize the array, we also need to initialize the object it stores.\n",
    "\n",
    "    System.out.println(a.getName());  //using getter to get name\n",
    "}   \n"
   ]
  },
  {
   "cell_type": "code",
   "execution_count": null,
   "metadata": {},
   "outputs": [
    {
     "name": "stdout",
     "output_type": "stream",
     "text": [
      "REPL.$JShell$34U$Address@47d6107e\n",
      "REPL.$JShell$34U$Address@4911e6f4\n",
      "REPL.$JShell$34U$Address@4d2e7b0e\n",
      "REPL.$JShell$34U$Address@82ceccf\n",
      "REPL.$JShell$34U$Address@7f8e4854\n"
     ]
    }
   ],
   "source": [
    "public class Address{\n",
    "    // some instances\n",
    "  private String name;\n",
    "\n",
    "  public Address(){ // constructor\n",
    "      name = \"CA\";\n",
    "  };\n",
    "\n",
    "  public String getName(){\n",
    "      return name;\n",
    "  };  \n",
    "\n",
    "  //No toString method\n",
    "}\n",
    "\n",
    "Address[] list = new Address[5];\n",
    "for (Address a : list){\n",
    "  a = new Address();\n",
    "  System.out.println(a);  //calling the object name without toString method inside the class\n",
    "}   \n"
   ]
  },
  {
   "cell_type": "code",
   "execution_count": null,
   "metadata": {},
   "outputs": [
    {
     "name": "stdout",
     "output_type": "stream",
     "text": [
      "Address name: CA\n",
      "Address name: CA\n",
      "Address name: CA\n",
      "Address name: CA\n",
      "Address name: CA\n"
     ]
    }
   ],
   "source": [
    "public class Address{\n",
    "    // some instances\n",
    "  private String name;\n",
    "\n",
    "  public Address(){ // constructor\n",
    "      name = \"CA\";\n",
    "  };\n",
    "\n",
    "  public String getName(){\n",
    "      return name;\n",
    "  };  \n",
    "\n",
    "  //toString method\n",
    "  public String toString(){\n",
    "      return \"Address name: \" + getName();\n",
    "  } \n",
    "  \n",
    "}\n",
    "\n",
    "Address[] list = new Address[5];\n",
    "for (Address addr : list){\n",
    "  addr = new Address();\n",
    "  System.out.println(addr);//calling the object name with toString method inside the class\n",
    "}   \n"
   ]
  },
  {
   "attachments": {},
   "cell_type": "markdown",
   "metadata": {},
   "source": [
    "_________________________________________________________________________________\n",
    "# Unit 8 2D Array"
   ]
  },
  {
   "attachments": {},
   "cell_type": "markdown",
   "metadata": {},
   "source": [
    "Exam Weighting\n",
    "\n",
    "- 7.5-10% of the test\n",
    "- Roughly 3 to 4 multiple-choice questions\n",
    "- Always FRQ #4, which tests your ability to make, traverse, and create algorithms with a 2D array.\n"
   ]
  },
  {
   "attachments": {},
   "cell_type": "markdown",
   "metadata": {},
   "source": [
    "Think of 2D arrays as arrays of arrays.  A big array that contains mini-arrays.  No need to further complicate.\n",
    "\n",
    "2D arrays are declared with two brackets like `[][]` instead of just one.\n",
    "\n",
    "ie. `int[][] amazing2dArray = new int[3][6];`\n",
    "\n",
    "The number in the first bracket is how many \"mini-arrays\" there are.  The second bracket has the length of the \"mini-arrays\".\n",
    "\n",
    "The example array above would have three \"mini-arrays\" that each contain six elements.\n",
    "\n",
    "(To help remember which bracket sets which length, remember that \"the first number is the big number\" (and therefore is the length of the big array).  You can use \"the second number is the small number\" for the other way around.)"
   ]
  },
  {
   "attachments": {},
   "cell_type": "markdown",
   "metadata": {},
   "source": [
    "### Create a 2d array with a 4 row and 4 column\n",
    "```java\n",
    "int[][] my2dArray = new int[4][4]; //all 0s\n",
    "\n",
    "//if knowing the numbers in 2d array\n",
    "int[][] my2dArray = {{1,2,3,4},{5,6,7,8},{9,10,11,12},{13,14,15,16}};\n",
    "```"
   ]
  },
  {
   "attachments": {},
   "cell_type": "markdown",
   "metadata": {},
   "source": [
    "### 2D Array Access"
   ]
  },
  {
   "cell_type": "code",
   "execution_count": null,
   "metadata": {},
   "outputs": [
    {
     "name": "stdout",
     "output_type": "stream",
     "text": [
      "7\n"
     ]
    }
   ],
   "source": [
    "int[][] my2dArray = {{1,2,3,4},{5,6,7,8},{9,10,11,12},{13,14,15,16}};\n",
    "\n",
    "//How to get the 7?\n",
    "System.out.println(my2dArray[1][2]);\n"
   ]
  },
  {
   "attachments": {},
   "cell_type": "markdown",
   "metadata": {},
   "source": [
    "### Traversing of 2D Array - nested loop"
   ]
  },
  {
   "cell_type": "code",
   "execution_count": null,
   "metadata": {},
   "outputs": [
    {
     "name": "stdout",
     "output_type": "stream",
     "text": [
      "For Loop - Row major order & Column major order\n",
      "1 2 3 4 \n",
      "5 6 7 8 \n",
      "9 10 11 12 \n",
      "13 14 15 16 \n",
      "\n",
      "1 5 9 13 \n",
      "2 6 10 14 \n",
      "3 7 11 15 \n",
      "4 8 12 16 \n",
      "\n"
     ]
    }
   ],
   "source": [
    "\n",
    "int[][] my2dArray ={{1,2,3,4},{5,6,7,8},{9,10,11,12},{13,14,15,16}};\n",
    "\n",
    "//For Loop\n",
    "\n",
    "System.out.println(\"For Loop - Row major order & Column major order\");\n",
    "//Row major order\n",
    "\tfor (int r=0; r<my2dArray.length; r++) { \n",
    "\t\tfor (int c=0; c<my2dArray[0].length; c++) { \n",
    "\t\t\tSystem.out.print(my2dArray[r][c] + \" \");\n",
    "\t\t}\n",
    "\t\tSystem.out.println();\n",
    "\t}\n",
    "\tSystem.out.println(\"\");\n",
    "\n",
    "//Column major order\n",
    "\tfor (int c=0; c<my2dArray[0].length; c++) { \n",
    "\t\tfor (int r=0; r<my2dArray.length; r++) { \n",
    "\t\t\tSystem.out.print(my2dArray[r][c] + \" \");\n",
    "\t\t}\n",
    "\t\tSystem.out.println();\n",
    "\t}\n",
    "\tSystem.out.println(\"\");\n"
   ]
  },
  {
   "cell_type": "code",
   "execution_count": null,
   "metadata": {},
   "outputs": [
    {
     "name": "stdout",
     "output_type": "stream",
     "text": [
      "1 2 3 4 5 6 7 8 9 10 11 12 13 14 15 16 "
     ]
    }
   ],
   "source": [
    "//Foreach loop\n",
    "\tfor ( int[] row : my2dArray) {     //specify the data type for row\n",
    "\t\tfor (int elem : row) {         //data type int\n",
    "\t\t\tSystem.out.print(elem + \" \");    //don’t need to specify row index and column index\n",
    "\t\t}\t\t\n",
    "\t}"
   ]
  },
  {
   "attachments": {},
   "cell_type": "markdown",
   "metadata": {},
   "source": [
    "### 2D Array MCQ\n",
    "\n",
    "What is the output of the code below?"
   ]
  },
  {
   "cell_type": "code",
   "execution_count": null,
   "metadata": {},
   "outputs": [],
   "source": [
    "int array[][] = {{1,2,3,4}, {5,6,7,8}};\n",
    "\n",
    "String s = \"\";\n",
    "\n",
    "for (int a=0; a<array[0].length; a++) {\n",
    "    for (int b=0; b<array.length; b++) {\n",
    "        s += a[b][a] + \" \";\n",
    "    }\n",
    "    s += \"##\";\n",
    "}\n",
    "System.out.print(s);"
   ]
  },
  {
   "attachments": {},
   "cell_type": "markdown",
   "metadata": {},
   "source": [
    "**A. 1 2 3 4 ^^5 6 7 8 ^^**\n",
    "\n",
    "**B. 1 5 2 6 ^^3 7 4 8 ^^**\n",
    "\n",
    "**C. 1 2 ^^3 4 ^^5 6 ^^7 8 ^^**\n",
    "\n",
    "**D. 1 5 ^^2 6 ^^3 7 ^^4 8 ^^**\n",
    "\n",
    "**E. 1^^2^^3^^4^^5^^6^^7^^8^^**"
   ]
  },
  {
   "attachments": {},
   "cell_type": "markdown",
   "metadata": {},
   "source": [
    "The answer is `D`\n",
    "\n",
    "This is because the outer loop runs through the length of a[0].length (the inner arrays) and the inner loop runs through a.length (the indexes of the smaller arrays).\n",
    "\n",
    "\n",
    "Therefore the print order would be:\n",
    "\n",
    "`a[0][0]`, which is `1`\n",
    "`a[1][0]`, which is `5`\n",
    "\n",
    "then `^^`, add one to counter `a`\n",
    "\n",
    "`a[0][1]`, which is `2`\n",
    "`a[1][1]`, which is `6`\n",
    "\n",
    "then `^^`, add one to counter `a`\n",
    "\n",
    "`a[0][2]`, which is `3`\n",
    "`a[1][2]`, which is `7`\n",
    "\n",
    "then `^^`, add one to counter `a`\n",
    "\n",
    "`a[0][1]`, which is `4`\n",
    "`a[1][1]`, which is `8`\n",
    "\n",
    "then `^^`, add one to counter `a`\n",
    "\n",
    "\n",
    "So the final printed string would be \"1 5 ^^2 6 ^^3 7 ^^4 8 ^^\".\n",
    "\n",
    "It is very helpful to write out each step on paper in loop problems like these."
   ]
  },
  {
   "attachments": {},
   "cell_type": "markdown",
   "metadata": {},
   "source": [
    "Let's look at an FRQ!\n",
    "\n",
    "(Look over the FRQ yourself and think about how you would solve it.  We will give you some time to think and then we go over the solution step-by-step and scoring. Part a is easy but part b can be a bit tricky!)\n",
    "\n",
    "### 2021 FRQ #4"
   ]
  },
  {
   "attachments": {},
   "cell_type": "markdown",
   "metadata": {},
   "source": [
    "![](image/2DArray/2dArrayFRQ.png)"
   ]
  },
  {
   "attachments": {},
   "cell_type": "markdown",
   "metadata": {},
   "source": [
    "After just reading prompt and given information, we know what two methods we will be implementing in part a&b: isNonZeroRow and resize. \n",
    "\n",
    "The method, numNonZeroRows, would return the number of rows in array2D that contain all non-zero values. The implementation is not shown because it doesn't matter since the function of the method is given to us, so we can use the method in our code."
   ]
  },
  {
   "attachments": {},
   "cell_type": "markdown",
   "metadata": {},
   "source": [
    "#### Part a"
   ]
  },
  {
   "attachments": {},
   "cell_type": "markdown",
   "metadata": {},
   "source": [
    "![](image/2DArray/2dArrayFRQa.png)"
   ]
  },
  {
   "attachments": {},
   "cell_type": "markdown",
   "metadata": {},
   "source": [
    "Purpose/goal of this method isNonZeroRow: Returns true if and only if every value in row r of array2D are not equal to zero. <br>\n",
    "The sample calls to isNonZeroRow also shows how it would return true only if \"all\" values in row are non-zero. <br>\n",
    "\n",
    "\n",
    "1. Copy and paste the first line of code that is given and start from here\n",
    "```java \n",
    "public static boolean isNonZeroRow (int[][] array2D, int r) \n",
    "```\n",
    "\n",
    "2. We need to check all element in row r in the 2d array to see are they all non-zero values or not.\n",
    "There are we need to loop through row r (not the entire 2d array) -> we can use for loop. \n",
    "```java \n",
    "public static boolean isNonZeroRow (int[][] array2D, int r) {\n",
    "    for (int c=0; c<array2d[0].length; c++){   //loop through each element\n",
    "            \n",
    "    }\n",
    "}\n",
    "\n",
    "```\n",
    "\n",
    "Common mistake: not reading the problem carefully, iterating through all rows <br>\n",
    "The problem is not askin us to iterate through all row, it gives us a specific row (row r) to check <br>\n",
    "It is necessary to read the problem carefully and see what parameters are given\n",
    "```java \n",
    "public static boolean isNonZeroRow (int[][] array2D, int r) { \n",
    "    for (int r=0; r<array2D.length; r++) {   //not needed\n",
    "        for (int c=0; c<array2d[0].length; c++){\n",
    "            \n",
    "        }\n",
    "    }\n",
    "}\n",
    "```\n",
    "\n",
    "3. We then need to check all element in each row to see are they 0 or not - we can use if statement. (for loop and if statement usually go together)\n",
    "In the condition of if statement - check if the element is zero or not.\n",
    "\n",
    "```java\n",
    "public static boolean isNonZeroRow (int[][] array2D, int r) {\n",
    "    for (int c=0; c<array2d[0].length; c++){\n",
    "        if (2dArray[r][c] == 0) {   //we have to use \"r\" here because it is in the given parameter\n",
    "\n",
    "        }\n",
    "    }\n",
    "}\n",
    "```\n",
    "\n",
    "4. Return false if there is 0 and return true after the loop ended with no 0 found\n",
    "\n",
    "```java\n",
    "public static boolean isNonZeroRow (int[][] array2D, int r) {\n",
    "     for (int c=0; c < array2d[0].length; c++){\n",
    "         if (2dArray[r][c] == 0) {\n",
    "            return false;\n",
    "        }\n",
    "    }\n",
    "    return true; //be careful of the placement, should be outside of for loop\n",
    "}\n",
    "```\n",
    "\n",
    "\n"
   ]
  },
  {
   "attachments": {},
   "cell_type": "markdown",
   "metadata": {},
   "source": [
    "#### Part A Scoring\n",
    "\n",
    "| Scoring Criteria      | Decision Rules | Points |\n",
    "| ----------- | ----------- |  ----------- |\n",
    "| Compares an item from array2D with 0  | Responses will not earn the point if they fail to attempt the comparison, even if they access an item from array2D  | 1 |\n",
    "|  Accesses every item from row r of 2D array (no bounds errors)   | Responses can still earn the point even if they return early from an otherwise correctly-bounded loop      | 1 |\n",
    "|  Returns true if and only if row contains no zeros  |    Responses can still earn the point even if they process a column of the 2D array rather than a row <br> Responses will not earn the point if they fail to return a value in some cases    | 1 |"
   ]
  },
  {
   "attachments": {},
   "cell_type": "markdown",
   "metadata": {},
   "source": [
    "We can see that as long as we compares element from 0, we will get a point, even when we loop through the entire 2d array. \n",
    "```java\n",
    "  if (2dArray[r][c] == 0) //1 point if we have this line of code\n",
    "\n",
    "\n",
    "    for (int r=0; r<array2D.length; r++)  //although it is not needed, you won't lose a point if you wrote this line of code\n",
    "```\n",
    "\n",
    "We will get another point if we correctly set up the condition in for loop (access \"every\" item from row r with \"no bounds errors\")\n",
    "```java\n",
    "  for (int c=0; c<array2d[0].length; c++) //c=0 c++ -> access \"every\" item\n",
    "  // c < array2d[0].length -> no bounds errors\n",
    "  // c <= array2d[0].length -> this would cause bounds errors\n",
    "```\n",
    "\n",
    "We will get the last point if we have the correct return statement at the correct place\n",
    "\n",
    "```java\n",
    "     for (int c=0; c < array2d[0].length; c++){\n",
    "         if (2dArray[r][c] == 0) {\n",
    "            return false; // return false if there is 0\n",
    "        }\n",
    "    }\n",
    "    return true;  // return true after the loop ended (with no 0)\n",
    "```\n"
   ]
  },
  {
   "attachments": {},
   "cell_type": "markdown",
   "metadata": {},
   "source": [
    "#### Part b"
   ]
  },
  {
   "attachments": {},
   "cell_type": "markdown",
   "metadata": {},
   "source": [
    "![](image/2DArray/2dArrayFRQb.png)"
   ]
  },
  {
   "attachments": {},
   "cell_type": "markdown",
   "metadata": {},
   "source": [
    "Purpose/goal of this method resize: Returns a \"new 2d array\" containing \"only rows\" from array2D with \"all non-zero values\" and elements in new array should appear in the \"same order\" as the order in which they appeared in the original array. \n",
    "\n"
   ]
  },
  {
   "attachments": {},
   "cell_type": "markdown",
   "metadata": {},
   "source": [
    "---"
   ]
  },
  {
   "attachments": {},
   "cell_type": "markdown",
   "metadata": {},
   "source": [
    "#### Similar to Array, 2D Array can also store different data type \n",
    "- Primitive type like int, double...\n",
    "- Reference type like class object, Array(definitely), ArrayList.\n",
    "\n",
    "Example of 2D Array stores Class Object：\n",
    "\n",
    "```java\n",
    "Object[][] my2dArray = new Object[4][4];\n",
    "```\n",
    "\n",
    "Example of 2D Array stores ArrayList：\n",
    "\n",
    "```java\n",
    "ArrayList<String>[][] my2dArray = new ArrayList[10][10];\n",
    "```\n",
    "\n",
    "\n"
   ]
  },
  {
   "attachments": {},
   "cell_type": "markdown",
   "metadata": {},
   "source": [
    "Let's look at an example of storing the ArrayList(String)"
   ]
  },
  {
   "cell_type": "code",
   "execution_count": null,
   "metadata": {},
   "outputs": [
    {
     "name": "stdout",
     "output_type": "stream",
     "text": [
      "[CSA]\n"
     ]
    }
   ],
   "source": [
    "ArrayList<String>[][] my2dArray = new ArrayList[10][10];\n",
    "String name = \"CSA\"; //Create a String instance\n",
    " \n",
    "my2dArray[0][0] = new ArrayList<String>(); \n",
    "//Array is reference type, it only stores the \"address\" \n",
    "//so in this case, when we initialize the array, we also need to initialize the ArrayList it stores.\n",
    "\n",
    "my2dArray[0][0].add(name); // add the String name into the ArrayList\n",
    "\n",
    "System.out.println(my2dArray[0][0]); "
   ]
  },
  {
   "attachments": {},
   "cell_type": "markdown",
   "metadata": {},
   "source": [
    "#### Inheritance in 2D Array\n",
    "sometime, we can see someone creating an ArrayList using the format below:\n",
    "\n",
    "```java\n",
    "List<String> a = new ArrayList<String>();\n",
    "```\n",
    "\n",
    "ArrayList is a subclass of List, it contains more information than List. We can convert an ArrayList to List by delete the extra information, but we can't convert a List to an ArrayList because we can't create information that it doesn't have. That is inheritance. So the code will fail if we change the position:\n",
    "\n",
    "```java\n",
    "ArrayList<String> a = new List<String>();\n",
    "```"
   ]
  },
  {
   "cell_type": "code",
   "execution_count": null,
   "metadata": {},
   "outputs": [],
   "source": [
    "List<String> a = new ArrayList<String>();"
   ]
  },
  {
   "cell_type": "code",
   "execution_count": null,
   "metadata": {},
   "outputs": [
    {
     "ename": "CompilationException",
     "evalue": "",
     "output_type": "error",
     "traceback": [
      "\u001b[1m\u001b[30m|   \u001b[1m\u001b[30mArrayList<String> a = \u001b[0m\u001b[1m\u001b[30m\u001b[41mnew List<String>()\u001b[0m\u001b[1m\u001b[30m;\u001b[0m",
      "\u001b[1m\u001b[31mjava.util.List is abstract; cannot be instantiated\u001b[0m",
      ""
     ]
    }
   ],
   "source": [
    "ArrayList<String> a = new List<String>();"
   ]
  },
  {
   "attachments": {},
   "cell_type": "markdown",
   "metadata": {},
   "source": [
    "#### Similar like ArrayList, we can use inheritance in a 2D Array.\n",
    "if we have two classes and one is a subclass to other (one is extend other)"
   ]
  },
  {
   "cell_type": "code",
   "execution_count": null,
   "metadata": {},
   "outputs": [],
   "source": [
    "public class Animal{};\n",
    "\n",
    "public class Bird extends Animal{};"
   ]
  },
  {
   "attachments": {},
   "cell_type": "markdown",
   "metadata": {},
   "source": [
    "And we want to use them to create a 2D Array:"
   ]
  },
  {
   "cell_type": "code",
   "execution_count": null,
   "metadata": {},
   "outputs": [],
   "source": [
    "Animal[][] my2dArray = new Bird[10][10];"
   ]
  },
  {
   "cell_type": "code",
   "execution_count": null,
   "metadata": {},
   "outputs": [
    {
     "ename": "CompilationException",
     "evalue": "",
     "output_type": "error",
     "traceback": [
      "\u001b[1m\u001b[30m|   \u001b[1m\u001b[30mBird[][] my2dArray = \u001b[0m\u001b[1m\u001b[30m\u001b[41mnew Animal[10][10]\u001b[0m\u001b[1m\u001b[30m;\u001b[0m",
      "\u001b[1m\u001b[31mincompatible types: Animal[][] cannot be converted to Bird[][]\u001b[0m",
      ""
     ]
    }
   ],
   "source": [
    "Bird[][] my2dArray = new Animal[10][10];\n"
   ]
  }
 ],
 "metadata": {
  "kernelspec": {
   "display_name": "Java",
   "language": "java",
   "name": "java"
  },
  "language_info": {
   "codemirror_mode": "java",
   "file_extension": ".jshell",
   "mimetype": "text/x-java-source",
   "name": "java",
   "pygments_lexer": "java",
   "version": "17.0.5+8-Ubuntu-2ubuntu120.04"
  },
  "orig_nbformat": 4
 },
 "nbformat": 4,
 "nbformat_minor": 2
}
