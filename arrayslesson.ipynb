{
 "cells": [
  {
   "attachments": {},
   "cell_type": "markdown",
   "metadata": {},
   "source": [
    "# Arrays and 2D-Arrays Lesson"
   ]
  },
  {
   "attachments": {},
   "cell_type": "markdown",
   "metadata": {},
   "source": [
    "---\n",
    "\n",
    "We will be reviewing the basic concepts of array and 2d array (not teaching the basic concepts because you should already know these basics and that would also be too much words to look at, if you don't, you should really do more study on your own). We are also be focusing on the tricky parts within the questions on the AP Exam, and provide example problems along the lesson with explanations to help you better undertstand those tricky parts and that you can be more aware of them when doing practice MCQs on your own. We hope the blog would be a helpful studyguide that help you prepare for the array and 2d array problems on the ap exam!\n",
    "\n",
    "---"
   ]
  },
  {
   "attachments": {},
   "cell_type": "markdown",
   "metadata": {},
   "source": [
    "# Arrays"
   ]
  },
  {
   "attachments": {},
   "cell_type": "markdown",
   "metadata": {},
   "source": [
    "Note that arrays:\n",
    "1. are **mutable** (their contents can be changed)\n",
    "2. are **ordered** (each object has an index number)\n",
    "3. can have **repeating values** (ex. an int array could have `7` at indexes 5, 3, and 8 without error)\n",
    "4. have a **fixed size** (the size of the array cannot be changed once it is initalized, you can't append a new element to the list but you can replace an existing element).\n",
    "---"
   ]
  },
  {
   "attachments": {},
   "cell_type": "markdown",
   "metadata": {},
   "source": [
    "### Create int Array with a length of 10\n",
    "\n",
    "```java\n",
    "\tint[] myArray = new int[10] //note that by default all elements are 0\n",
    "```\n",
    "\n",
    "```java\n",
    "//If you know the numbers inside the Array\n",
    "    int[] myArray = {1, 2, 3, 4, 5} //be mindful of what kinds of bracket to use\n",
    "\n",
    "// both are valid declarations\n",
    "    int myArray[]; \n",
    "    or int[] myArray;\n",
    "```\n",
    "---\n",
    "\n",
    "### Array’s length (attribute, not a method)\n",
    "```java\t\n",
    "    myArray.length //different from arraylist .get()\n",
    "```\n",
    "\n",
    "---\n",
    "\n",
    "### Access a element in Array\n",
    "```java\n",
    "\tmyArray[3] //3 -> index position, access the 4th element in the array\n",
    "```\n",
    "\n",
    "---\n",
    "\n",
    "### String Array\n",
    "```java\n",
    "String[] myStringArray = new String[10];\n",
    "```\n",
    "---\n"
   ]
  },
  {
   "attachments": {},
   "cell_type": "markdown",
   "metadata": {},
   "source": [
    "### Traversing an Array\n",
    "\n",
    "#### for loop\n",
    "\n",
    "```java\n",
    "int[] myArray = {1,2,3,4,5};\n",
    "\n",
    "for (int i = 0; i < myArray.length; i++){\n",
    "    System.out.print(myArray[i]);\n",
    "}\n",
    "\n",
    "//or\t\n",
    "\n",
    "for (int i = 0; i <= myArray.length - 1; i++) {\n",
    "\tSystem.out.print(myArray[i]);\n",
    "}\n",
    "\n",
    "```\n",
    "\n"
   ]
  },
  {
   "attachments": {},
   "cell_type": "markdown",
   "metadata": {},
   "source": [
    "![](image/forlooparray.png)\n",
    "\n",
    "Answer: B\n",
    "- key[i-1];\n",
    "```java\n",
    "    - for (int i=0; i <= myArray.length -1; i++)   //“<=“  //missing -1 in the code\n",
    "```\n",
    "    - So eliminate A and B\n",
    "\n",
    "- sum += key[i - 1];\n",
    "    - Not D or E because of the “+=“ \n",
    "        - e.g. a += 3 equals to a = a+3\n",
    "    - In D, sum += sum + key[i-1] which equals to sum = sum + sum + key[i-1]\n",
    "        - sum is being added 2 times\n",
    "\n",
    "\n",
    "1. Know what is the question asking (read question and code carefully)\n",
    "2. Be aware of what is missing in the code, and keep that in mind while looking at the answer options\n",
    "3. Be careful of the sign (operator) also\n"
   ]
  },
  {
   "attachments": {},
   "cell_type": "markdown",
   "metadata": {},
   "source": [
    "---\n",
    "### While loop\n",
    "```java\n",
    "\tint i=0;\n",
    "\twhile(I<myArray.length){\n",
    "\t\t…\n",
    "\t\tI++;\n",
    "\t}\n",
    "\n",
    "```\n",
    "\n",
    "---\n",
    "\n",
    "### Foreach loop\n",
    "```java\n",
    "\tfor ( int elem : myArray) {    //I=0; int elem = myArray[i]; i++;\n",
    "\t\tSystem.out.println(elem);\n",
    "\t}\n",
    "```\n",
    "\t- right side of colon - name of array \n",
    "\t- left side of colon - need to include the data type + whatever name\n",
    "\n",
    "foreach loops are almost always used to iterate over items in a sequence of elements, we can’t modify the array\n",
    "- same as i=0; int elem = myArray[i]; i++; \n",
    "- create new elem and store them in the myArray, so when you edit the elem, you are not changing myArray\n",
    "\n"
   ]
  },
  {
   "cell_type": "code",
   "execution_count": 16,
   "metadata": {
    "vscode": {
     "languageId": "java"
    }
   },
   "outputs": [
    {
     "name": "stdout",
     "output_type": "stream",
     "text": [
      "1\n",
      "2\n",
      "3\n",
      "4\n",
      "5\n",
      "[1, 2, 3, 4, 5]"
     ]
    }
   ],
   "source": [
    "int[] myArray = {1, 2, 3, 4, 5};\n",
    "\n",
    "for (int elem : myArray) {    //I=0; int elem = myArray[i]; i++;\n",
    "    System.out.println(elem);\n",
    "    elem += 1;\n",
    "}\n",
    "\n",
    "System.out.print(Arrays.toString(myArray));\n",
    "\n"
   ]
  },
  {
   "attachments": {},
   "cell_type": "markdown",
   "metadata": {},
   "source": [
    "---"
   ]
  },
  {
   "attachments": {},
   "cell_type": "markdown",
   "metadata": {},
   "source": [
    "### Print array - .toString()"
   ]
  },
  {
   "cell_type": "code",
   "execution_count": 7,
   "metadata": {
    "vscode": {
     "languageId": "java"
    }
   },
   "outputs": [
    {
     "name": "stdout",
     "output_type": "stream",
     "text": [
      "[1, 2, 3, 4, 5][1, 2, 3, 4, 5][1, 2, 3, 4, 5][1, 2, 3, 4, 5][1, 2, 3, 4, 5]"
     ]
    }
   ],
   "source": [
    "int[] myArray = {1,2,3,4,5};\n",
    "\n",
    "for (int i = 0; i < myArray.length; i++){\n",
    "    System.out.print(Arrays.toString(myArray));\n",
    "}"
   ]
  },
  {
   "attachments": {},
   "cell_type": "markdown",
   "metadata": {},
   "source": [
    "_________________________________________________________________________________\n",
    "### Question: What is the data type of an Array?\n",
    "- Reference Type!\n",
    "\n",
    "Because Array is reference type, unlike primitive type, it is store the \"address\". <br>\n",
    "\n",
    "Ex. <br>\n",
    "if I have an Array called int[] a = {1,2,3,4}<br>\n",
    "And I initialize another Array called \"b\" and make it equal to Array a, what will it happened if I change the elements inside Array b?<br>\n",
    "Will the Array a also changes?<br>\n",
    "\n",
    "```java\n",
    "int[] a = {1,2,3,4};\n",
    "int[] b = a;\n",
    "b[1] = 5;\n",
    "\n",
    "System.out.println(Arrays.toString(a));\n",
    "\n",
    "```"
   ]
  },
  {
   "cell_type": "code",
   "execution_count": 8,
   "metadata": {
    "vscode": {
     "languageId": "java"
    }
   },
   "outputs": [
    {
     "name": "stdout",
     "output_type": "stream",
     "text": [
      "[1, 5, 3, 4]\n"
     ]
    }
   ],
   "source": [
    "int[] a = {1,2,3,4};\n",
    "int[] b = a;\n",
    "b[1] = 5;\n",
    "\n",
    "System.out.println(Arrays.toString(a)); "
   ]
  },
  {
   "attachments": {},
   "cell_type": "markdown",
   "metadata": {},
   "source": [
    "The answer is Yes. Changes b will also changes a, because Array is a reference type and inside is the \"address\" being stored. <br>\n",
    "\n",
    "So if you make b = a, you are making the address of b equal to the address of a which means both arrays share the same address, and if you changes the element inside the address, both b and a will change<br>\n",
    "\n",
    "Now let's look at an MCQ\n",
    "\n",
    "![](image/Unit6Array/Unit6MCQ5.png)\n",
    "Answer: C\n",
    "\n",
    "Reason: when calling the void Method doSomething, it created a new int array called b and make it equal to the input array, so changes b will change arr. "
   ]
  },
  {
   "cell_type": "code",
   "execution_count": 17,
   "metadata": {
    "vscode": {
     "languageId": "java"
    }
   },
   "outputs": [
    {
     "name": "stdout",
     "output_type": "stream",
     "text": [
      "[1, 2, 3, 4]\n",
      "index 1 :2\n",
      "index 1 :4\n",
      "after calling the method doSomething\n",
      "[0, 1, 2, 3]\n",
      "index 1 :1\n",
      "index 1 :3\n"
     ]
    }
   ],
   "source": [
    "public void doSomething(int[] list){\n",
    "    int[] b = list;\n",
    "    for (int i = 0; i < b.length; i++){\n",
    "        b[i] = i;\n",
    "    }\n",
    "}\n",
    "\n",
    "int[] arr = {1, 2, 3, 4};\n",
    "System.out.println(Arrays.toString(arr));\n",
    "System.out.println(\"index 1 : \" + arr[1]);\n",
    "System.out.println(\"index 1 : \" + arr[3]);\n",
    "doSomething(arr);\n",
    "System.out.println(\"after calling the method doSomething\");\n",
    "System.out.println(Arrays.toString(arr));\n",
    "System.out.println(\"index 1 : \" + arr[1]);\n",
    "System.out.println(\"index 1 : \" + arr[3]);"
   ]
  },
  {
   "attachments": {},
   "cell_type": "markdown",
   "metadata": {},
   "source": [
    "_________________________________________________________________________________\n",
    "#### Array not only can store primitive type like int, double, string...\n",
    "#### It can also store the Class Object!\n",
    "Ex. if we have a class called Player<br>\n",
    "\n",
    "```java\n",
    "public class Player{\n",
    "    // some instances\n",
    "    private String name;\n",
    "\n",
    "\n",
    "    public Player(){ // constructor\n",
    "        //code\n",
    "    };\n",
    "\n",
    "    public Player(String input){\n",
    "        //code\n",
    "    }\n",
    "\n",
    "    public String getName(){ //getter, accessor\n",
    "        return name;\n",
    "    };\n",
    "\n",
    "    public void setName(String newName){\n",
    "        this.name = newName;\n",
    "    }\n",
    "}\n",
    "```\n",
    "\n",
    "And we declare an array initialize like below\n",
    "\n",
    "```java\n",
    "Player[] Arrayname = new Player[10]\n",
    "```\n",
    "\n",
    "The array Arrayname now stores ten class Object called Player, if we want to print out one of the players' name we can use\n",
    "\n",
    "```java\n",
    "System.out.println(Arrayname[i].getName()); // you can change i to any the index number you want to call the player object, in this case, you must put a number between 0-9;\n",
    "```\n",
    "\n",
    "Now let's look at one MCQ, QS 7 and 8 are connected to each other\n",
    "\n",
    "![](image/Unit6Array/Unit6MCQ6a.png) <br>\n",
    "![](image/Unit6Array/Unit6MCQ6b.png) <br>\n",
    "Answer: D, it is a for-each loop, so option A to C are incorrect because it has index on it. Option E is incorrect because what we want is to print the name of the address, or print the String instance called name inside the Address Object, and list is an Array that only contain the \"address\" to each class object. So if we want to print the name of Address inside the list, we can use for loop and inside using list[i].getName(). And in this case, it already provide us a for-each loop that run though the list Array. So we can just use a.getName(), option D  <br>\n",
    "![](image/Unit6Array/Unit6MCQ6c.png) <br>\n",
    "Answer: B, I is incorrect because we are using a for-each loop, and III is incorrect because we can't just call the Class Object if it didn't contain toString method inside the Class.<br>\n",
    "\n",
    "<br>\n",
    "\n",
    "To help you better understand what is the rule of toString and how does it work on this Qs, let's look at a code segment below"
   ]
  },
  {
   "cell_type": "code",
   "execution_count": 25,
   "metadata": {
    "vscode": {
     "languageId": "java"
    }
   },
   "outputs": [
    {
     "name": "stdout",
     "output_type": "stream",
     "text": [
      "CA\n",
      "CA\n",
      "CA\n",
      "CA\n",
      "CA\n"
     ]
    }
   ],
   "source": [
    "public class Address{\n",
    "      // some instances\n",
    "    private String name;\n",
    "\n",
    "    public Address(){ // constructor\n",
    "        name = \"CA\";\n",
    "    };\n",
    "  \n",
    "    public String getName(){\n",
    "        return name;\n",
    "    };  \n",
    "\n",
    "    public String toString(){\n",
    "        return \"Address name: \" + getName();\n",
    "    } \n",
    "    \n",
    "}\n",
    "\n",
    "Address[] list = new Address[5];\n",
    "for (Address a : list){\n",
    "    a = new Address();\n",
    "    System.out.println(a.getName());\n",
    "}   \n"
   ]
  },
  {
   "cell_type": "code",
   "execution_count": 23,
   "metadata": {
    "vscode": {
     "languageId": "java"
    }
   },
   "outputs": [
    {
     "name": "stdout",
     "output_type": "stream",
     "text": [
      "Address name: CA\n",
      "Address name: CA\n",
      "Address name: CA\n",
      "Address name: CA\n",
      "Address name: CA\n"
     ]
    }
   ],
   "source": [
    "public class Address{\n",
    "    // some instances\n",
    "  private String name;\n",
    "\n",
    "  public Address(){ // constructor\n",
    "      name = \"CA\";\n",
    "  };\n",
    "\n",
    "  public String getName(){\n",
    "      return name;\n",
    "  };  \n",
    "\n",
    "  public String toString(){\n",
    "      return \"Address name: \" + getName();\n",
    "  } \n",
    "  \n",
    "}\n",
    "\n",
    "Address[] list = new Address[5];\n",
    "for (Address addr : list){\n",
    "  addr = new Address();\n",
    "  System.out.println(addr);\n",
    "}   \n"
   ]
  },
  {
   "attachments": {},
   "cell_type": "markdown",
   "metadata": {},
   "source": [
    "_________________________________________________________________________________\n",
    "# 2D Array"
   ]
  },
  {
   "attachments": {},
   "cell_type": "markdown",
   "metadata": {},
   "source": [
    "### Create a 2d array with a 4 row and 4 column\n",
    "```java\t\n",
    "    int[][] my2dArray = new int[4][4]; //all 0s\n",
    "\t\t\t\t    \n",
    "\tint[][] my2dArray = {{1,2,3,4},{5,6,7,8},{9,10,11,12},{13,14,15,16}};\n",
    "```\n",
    "\n",
    "### 2D Array Access\n",
    "```java\n",
    "//How to get the 7?\n",
    "\tmy2DArray[1][2] -> 7  //[row][column]\n",
    "\n",
    "```\n",
    "\n"
   ]
  },
  {
   "attachments": {},
   "cell_type": "markdown",
   "metadata": {},
   "source": [
    "### Traversing of 2D Array - nested loop\n",
    "```java\n",
    "//Row major order\n",
    "\tfor (int r=0; r<my2dArray.length; r++) { \n",
    "\t\tfor (int c=0; c<my2dArray[0].length; c++) { \n",
    "\t\t\tSystem.out.print(my2dArray[r][c]);\n",
    "\t\t}\n",
    "\t\tSystem.out.println();\n",
    "\t}\n",
    "\n",
    "//Column major order\n",
    "\tfor (int c=0; c<my2dArray[0].length; c++) { \n",
    "\t\tfor (int r=0; r<my2dArray.length; r++) { \n",
    "\t\t\tSystem.out.print(my2dArray[r][c]);\n",
    "\t\t}\n",
    "\t\tSystem.out.println();\n",
    "\t}\n",
    "\n",
    "\n",
    "```\n"
   ]
  }
 ],
 "metadata": {
  "kernelspec": {
   "display_name": "Java",
   "language": "java",
   "name": "java"
  },
  "language_info": {
   "codemirror_mode": "java",
   "file_extension": ".jshell",
   "mimetype": "text/x-java-source",
   "name": "Java",
   "pygments_lexer": "java",
   "version": "11.0.17+8-post-Ubuntu-1ubuntu218.04"
  },
  "orig_nbformat": 4
 },
 "nbformat": 4,
 "nbformat_minor": 2
}
